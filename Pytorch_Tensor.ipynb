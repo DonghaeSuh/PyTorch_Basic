{
  "nbformat": 4,
  "nbformat_minor": 0,
  "metadata": {
    "colab": {
      "private_outputs": true,
      "provenance": [],
      "collapsed_sections": [],
      "authorship_tag": "ABX9TyM6bWgiZRmuCQCam2PJWbAK",
      "include_colab_link": true
    },
    "kernelspec": {
      "name": "python3",
      "display_name": "Python 3"
    },
    "language_info": {
      "name": "python"
    }
  },
  "cells": [
    {
      "cell_type": "markdown",
      "metadata": {
        "id": "view-in-github",
        "colab_type": "text"
      },
      "source": [
        "<a href=\"https://colab.research.google.com/github/DonghaeSuh/PyTorch_Basic/blob/main/Pytorch_Tensor.ipynb\" target=\"_parent\"><img src=\"https://colab.research.google.com/assets/colab-badge.svg\" alt=\"Open In Colab\"/></a>"
      ]
    },
    {
      "cell_type": "code",
      "execution_count": null,
      "metadata": {
        "id": "nA0nYCs6VXXc"
      },
      "outputs": [],
      "source": [
        "import torch"
      ]
    },
    {
      "cell_type": "markdown",
      "source": [
        "### 1D"
      ],
      "metadata": {
        "id": "UTReK0sGVssA"
      }
    },
    {
      "cell_type": "code",
      "source": [
        "t = torch.FloatTensor([0., 1., 2., 3., 4., 5., 6.])\n",
        "print(t)"
      ],
      "metadata": {
        "id": "0AOnIy4YVidc"
      },
      "execution_count": null,
      "outputs": []
    },
    {
      "cell_type": "code",
      "source": [
        "print(t.dim())  # rank. 즉, 차원\n",
        "print(t.shape)  # shape\n",
        "print(t.size()) # size"
      ],
      "metadata": {
        "id": "3eAiSiHEVjJX"
      },
      "execution_count": null,
      "outputs": []
    },
    {
      "cell_type": "code",
      "source": [
        "print(t[0], t[1], t[-1])  # 인덱스로 접근\n",
        "print(t[2:5], t[4:-1])    # 슬라이싱\n",
        "print(t[:2], t[3:])       # 슬라이싱"
      ],
      "metadata": {
        "id": "lia--jDNVo8_"
      },
      "execution_count": null,
      "outputs": []
    },
    {
      "cell_type": "markdown",
      "source": [
        "### 2D"
      ],
      "metadata": {
        "id": "fQigmlYVVuOA"
      }
    },
    {
      "cell_type": "code",
      "source": [
        "t = torch.FloatTensor([[1., 2., 3.],\n",
        "                       [4., 5., 6.],\n",
        "                       [7., 8., 9.],\n",
        "                       [10., 11., 12.]\n",
        "                      ])\n",
        "print(t)"
      ],
      "metadata": {
        "id": "zt-U52xlVvGY"
      },
      "execution_count": null,
      "outputs": []
    },
    {
      "cell_type": "code",
      "source": [
        "print(t.dim())  # rank. 즉, 차원\n",
        "print(t.size()) # shape"
      ],
      "metadata": {
        "id": "5WP_GsepVxrB"
      },
      "execution_count": null,
      "outputs": []
    },
    {
      "cell_type": "code",
      "source": [
        "print(t[:, 1]) # 첫번째 차원을 전체 선택한 상황에서 두번째 차원의 첫번째 것만 가져온다.\n",
        "print(t[:, 1].size()) # ↑ 위의 경우의 크기"
      ],
      "metadata": {
        "id": "z-Mp_unYV1Sh"
      },
      "execution_count": null,
      "outputs": []
    },
    {
      "cell_type": "code",
      "source": [
        "print(t[:, :-1]) # 첫번째 차원을 전체 선택한 상황에서 두번째 차원에서는 맨 마지막에서 첫번째를 제외하고 다 가져온다."
      ],
      "metadata": {
        "id": "1xl_ErydV5lX"
      },
      "execution_count": null,
      "outputs": []
    },
    {
      "cell_type": "markdown",
      "source": [
        "###Broadcasting"
      ],
      "metadata": {
        "id": "0IcKFBG8V8Hz"
      }
    },
    {
      "cell_type": "code",
      "source": [
        "# Vector + scalar\n",
        "m1 = torch.FloatTensor([[1, 2]])\n",
        "m2 = torch.FloatTensor([3]) # [3] -> [3, 3]\n",
        "print(m1 + m2)"
      ],
      "metadata": {
        "id": "-tToSV9sV9yq"
      },
      "execution_count": null,
      "outputs": []
    },
    {
      "cell_type": "code",
      "source": [
        "# 2 x 1 Vector + 1 x 2 Vector\n",
        "m1 = torch.FloatTensor([[1, 2]])\n",
        "m2 = torch.FloatTensor([[3], [4]])\n",
        "print(m1 + m2)"
      ],
      "metadata": {
        "id": "gjIhm9akWDJw"
      },
      "execution_count": null,
      "outputs": []
    },
    {
      "cell_type": "markdown",
      "source": [
        "###Matrix Multiplication Vs. Multiplication"
      ],
      "metadata": {
        "id": "MKfq3N1ZWGQh"
      }
    },
    {
      "cell_type": "code",
      "source": [
        "m1 = torch.FloatTensor([[1, 2], [3, 4]])\n",
        "m2 = torch.FloatTensor([[1], [2]])\n",
        "print('Shape of Matrix 1: ', m1.shape) # 2 x 2\n",
        "print('Shape of Matrix 2: ', m2.shape) # 2 x 1\n",
        "print(m1.matmul(m2)) # 2 x 1"
      ],
      "metadata": {
        "id": "03LEpNGfWG0n"
      },
      "execution_count": null,
      "outputs": []
    },
    {
      "cell_type": "code",
      "source": [
        "m1 = torch.FloatTensor([[1, 2], [3, 4]])\n",
        "m2 = torch.FloatTensor([[1], [2]])\n",
        "print('Shape of Matrix 1: ', m1.shape) # 2 x 2\n",
        "print('Shape of Matrix 2: ', m2.shape) # 2 x 1\n",
        "print(m1 * m2) # 2 x 2\n",
        "print(m1.mul(m2))"
      ],
      "metadata": {
        "id": "2vZJUT1EWJm3"
      },
      "execution_count": null,
      "outputs": []
    },
    {
      "cell_type": "markdown",
      "source": [
        "###Mean"
      ],
      "metadata": {
        "id": "Az5flCVdWLpf"
      }
    },
    {
      "cell_type": "code",
      "source": [
        "t = torch.FloatTensor([1, 2])\n",
        "print(t.mean())"
      ],
      "metadata": {
        "id": "Ek1Ib4kMWM_g"
      },
      "execution_count": null,
      "outputs": []
    },
    {
      "cell_type": "code",
      "source": [
        "t = torch.FloatTensor([[1, 2], [3, 4]])\n",
        "print(t)"
      ],
      "metadata": {
        "id": "aKhLbkHGWQz6"
      },
      "execution_count": null,
      "outputs": []
    },
    {
      "cell_type": "code",
      "source": [
        "print(t.mean())"
      ],
      "metadata": {
        "id": "u92MgYNpWSMj"
      },
      "execution_count": null,
      "outputs": []
    },
    {
      "cell_type": "code",
      "source": [
        "print(t.mean(dim=0))"
      ],
      "metadata": {
        "id": "O2X2tOxZWTuH"
      },
      "execution_count": null,
      "outputs": []
    },
    {
      "cell_type": "code",
      "source": [
        "print(t.mean(dim=1))"
      ],
      "metadata": {
        "id": "ev-2iJybWW7y"
      },
      "execution_count": null,
      "outputs": []
    },
    {
      "cell_type": "code",
      "source": [
        "print(t.mean(dim=-1))"
      ],
      "metadata": {
        "id": "BOtFy2p5WX-g"
      },
      "execution_count": null,
      "outputs": []
    },
    {
      "cell_type": "markdown",
      "source": [
        "###Sum"
      ],
      "metadata": {
        "id": "JzM-bsmqWY8n"
      }
    },
    {
      "cell_type": "code",
      "source": [
        "t = torch.FloatTensor([[1, 2], [3, 4]])\n",
        "print(t)"
      ],
      "metadata": {
        "id": "z8IBk6DoWZfI"
      },
      "execution_count": null,
      "outputs": []
    },
    {
      "cell_type": "code",
      "source": [
        "print(t.sum()) # 단순히 원소 전체의 덧셈을 수행\n",
        "print(t.sum(dim=0)) # 2차원 방향\n",
        "print(t.sum(dim=1)) # 1차원 방향\n",
        "print(t.sum(dim=-1)) # 가장 낮은 차원 방향(= 1차원 방향)"
      ],
      "metadata": {
        "id": "9UEzCcJlWbJ0"
      },
      "execution_count": null,
      "outputs": []
    },
    {
      "cell_type": "markdown",
      "source": [
        "###Max, ArgMAx"
      ],
      "metadata": {
        "id": "7kBZfppEWi_G"
      }
    },
    {
      "cell_type": "code",
      "source": [
        "t = torch.FloatTensor([[1, 2], [3, 4]])\n",
        "print(t)"
      ],
      "metadata": {
        "id": "4GlrKQKLWlZ4"
      },
      "execution_count": null,
      "outputs": []
    },
    {
      "cell_type": "code",
      "source": [
        "print(t.max()) # Returns one value: max"
      ],
      "metadata": {
        "id": "f_yauYoIWnoH"
      },
      "execution_count": null,
      "outputs": []
    },
    {
      "cell_type": "markdown",
      "source": [
        "max에 dim 인자를 주면 armax도 함께 리턴 \\\n",
        "(해당 dim 차원 방향에 대하여, 몇번째 index에 해당하는지에 대한 정보 담음)"
      ],
      "metadata": {
        "id": "kk3o8MIGW_Zf"
      }
    },
    {
      "cell_type": "code",
      "source": [
        "print(t.max(dim=0)) # Returns two values: max and argmax"
      ],
      "metadata": {
        "id": "-PePj4mrWpS3"
      },
      "execution_count": null,
      "outputs": []
    },
    {
      "cell_type": "code",
      "source": [
        "print('Max: ', t.max(dim=0)[0])\n",
        "print('Argmax: ', t.max(dim=0)[1])"
      ],
      "metadata": {
        "id": "SDWReJjGXUPL"
      },
      "execution_count": null,
      "outputs": []
    },
    {
      "cell_type": "markdown",
      "source": [
        "###view() => tf.reshape()와 동일"
      ],
      "metadata": {
        "id": "c3g9jnAsdSX7"
      }
    },
    {
      "cell_type": "code",
      "source": [
        "import numpy as np"
      ],
      "metadata": {
        "id": "7WcqoRQideKJ"
      },
      "execution_count": null,
      "outputs": []
    },
    {
      "cell_type": "code",
      "source": [
        "t = np.array([[[0, 1, 2],\n",
        "               [3, 4, 5]],\n",
        "              [[6, 7, 8],\n",
        "               [9, 10, 11]]])\n",
        "ft = torch.FloatTensor(t)\n",
        "ft"
      ],
      "metadata": {
        "id": "uvzetyWQda_z"
      },
      "execution_count": null,
      "outputs": []
    },
    {
      "cell_type": "code",
      "source": [
        "print(ft.shape)"
      ],
      "metadata": {
        "id": "3Yr9UyUcdgeV"
      },
      "execution_count": null,
      "outputs": []
    },
    {
      "cell_type": "code",
      "source": [
        "print(ft.view([-1, 3])) # ft라는 텐서를 (?, 3)의 크기로 변경\n",
        "print(ft.view([-1, 3]).shape)"
      ],
      "metadata": {
        "id": "83yDjH6edk4v"
      },
      "execution_count": null,
      "outputs": []
    },
    {
      "cell_type": "code",
      "source": [
        "print(ft.view([-1, 1, 3]))\n",
        "print(ft.view([-1, 1, 3]).shape)"
      ],
      "metadata": {
        "id": "gxA2ZfJ7dqkW"
      },
      "execution_count": null,
      "outputs": []
    },
    {
      "cell_type": "markdown",
      "source": [
        "### Squeeze"
      ],
      "metadata": {
        "id": "L6EpIJnIduQa"
      }
    },
    {
      "cell_type": "code",
      "source": [
        "ft = torch.FloatTensor([[0], [1], [2]])\n",
        "print(ft)\n",
        "print(ft.shape)"
      ],
      "metadata": {
        "id": "Ok0FV52Bdu_I"
      },
      "execution_count": null,
      "outputs": []
    },
    {
      "cell_type": "code",
      "source": [
        "print(ft.squeeze())\n",
        "print(ft.squeeze().shape)"
      ],
      "metadata": {
        "id": "eG_uY4zJdxzn"
      },
      "execution_count": null,
      "outputs": []
    },
    {
      "cell_type": "markdown",
      "source": [
        "###Unsqueeze"
      ],
      "metadata": {
        "id": "HzN2qhaId05_"
      }
    },
    {
      "cell_type": "code",
      "source": [
        "ft = torch.Tensor([0, 1, 2])\n",
        "print(ft.shape)"
      ],
      "metadata": {
        "id": "WHOdGFzzdzmP"
      },
      "execution_count": null,
      "outputs": []
    },
    {
      "cell_type": "code",
      "source": [
        "print(ft.unsqueeze(0)) # dim=0\n",
        "print(ft.unsqueeze(0).shape)"
      ],
      "metadata": {
        "id": "Mg_SrWwJd3tI"
      },
      "execution_count": null,
      "outputs": []
    },
    {
      "cell_type": "code",
      "source": [
        "print(ft.unsqueeze(1)) # dim=1\n",
        "print(ft.unsqueeze(1).shape)"
      ],
      "metadata": {
        "id": "ZCIrSp6qd-nX"
      },
      "execution_count": null,
      "outputs": []
    },
    {
      "cell_type": "code",
      "source": [
        "print(ft.unsqueeze(-1))\n",
        "print(ft.unsqueeze(-1).shape)"
      ],
      "metadata": {
        "id": "ciNqvmqTeOJh"
      },
      "execution_count": null,
      "outputs": []
    },
    {
      "cell_type": "code",
      "source": [
        "print(ft.view(1, -1))\n",
        "print(ft.view(1, -1).shape)"
      ],
      "metadata": {
        "id": "t3lqCoMreBtn"
      },
      "execution_count": null,
      "outputs": []
    },
    {
      "cell_type": "markdown",
      "source": [
        "###Type Casting"
      ],
      "metadata": {
        "id": "D99p_rUgeRu6"
      }
    },
    {
      "cell_type": "markdown",
      "source": [
        "![image.png](data:image/png;base64,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)"
      ],
      "metadata": {
        "id": "AML_7GGVhP0x"
      }
    },
    {
      "cell_type": "code",
      "source": [
        "lt = torch.LongTensor([1, 2, 3, 4])\n",
        "print(lt)"
      ],
      "metadata": {
        "id": "aL1oQlkJeStw"
      },
      "execution_count": null,
      "outputs": []
    },
    {
      "cell_type": "code",
      "source": [
        "print(lt.float())"
      ],
      "metadata": {
        "id": "G9J01ZQLhUCw"
      },
      "execution_count": null,
      "outputs": []
    },
    {
      "cell_type": "code",
      "source": [
        "bt = torch.ByteTensor([True, False, False, True])\n",
        "print(bt)"
      ],
      "metadata": {
        "id": "AiNJP5EGhUVI"
      },
      "execution_count": null,
      "outputs": []
    },
    {
      "cell_type": "code",
      "source": [
        "print(bt.long())\n",
        "print(bt.float())"
      ],
      "metadata": {
        "id": "Kxqwpy0ThVUQ"
      },
      "execution_count": null,
      "outputs": []
    },
    {
      "cell_type": "markdown",
      "source": [
        "### concatenate"
      ],
      "metadata": {
        "id": "vP1FtKF9hZlZ"
      }
    },
    {
      "cell_type": "code",
      "source": [
        "x = torch.FloatTensor([[1, 2], [3, 4]])\n",
        "y = torch.FloatTensor([[5, 6], [7, 8]])\n",
        "print(x)\n",
        "print(y)"
      ],
      "metadata": {
        "id": "tvzoGPVJhW-g"
      },
      "execution_count": null,
      "outputs": []
    },
    {
      "cell_type": "code",
      "source": [
        "print(torch.cat([x, y], dim=0))"
      ],
      "metadata": {
        "id": "rH-BidBAhpGY"
      },
      "execution_count": null,
      "outputs": []
    },
    {
      "cell_type": "code",
      "source": [
        "print(torch.cat([x, y], dim=1))"
      ],
      "metadata": {
        "id": "BhAfkmbghrzg"
      },
      "execution_count": null,
      "outputs": []
    },
    {
      "cell_type": "markdown",
      "source": [
        "### Stacking"
      ],
      "metadata": {
        "id": "8LBYQtb0huMQ"
      }
    },
    {
      "cell_type": "code",
      "source": [
        "x = torch.FloatTensor([1, 4])\n",
        "y = torch.FloatTensor([2, 5])\n",
        "z = torch.FloatTensor([3, 6])\n",
        "print(x)\n",
        "print(y)\n",
        "print(y)"
      ],
      "metadata": {
        "id": "vsxQXjnbhsLI"
      },
      "execution_count": null,
      "outputs": []
    },
    {
      "cell_type": "code",
      "source": [
        "print(torch.stack([x, y, z])) #default : dim=0"
      ],
      "metadata": {
        "id": "V1XZA9Vwh0GX"
      },
      "execution_count": null,
      "outputs": []
    },
    {
      "cell_type": "code",
      "source": [
        "print(torch.stack([x, y, z], dim=1))"
      ],
      "metadata": {
        "id": "veJQVGXyiIDM"
      },
      "execution_count": null,
      "outputs": []
    },
    {
      "cell_type": "markdown",
      "source": [
        "### ones_like, zeros_like"
      ],
      "metadata": {
        "id": "yFCbDO2TiSb_"
      }
    },
    {
      "cell_type": "code",
      "source": [
        "x = torch.FloatTensor([[0, 1, 2], [2, 1, 0]])\n",
        "print(x)"
      ],
      "metadata": {
        "id": "RI44RhZ0iTjg"
      },
      "execution_count": null,
      "outputs": []
    },
    {
      "cell_type": "code",
      "source": [
        "print(torch.ones_like(x)) # 입력 텐서와 크기를 동일하게 하면서 값을 1로 채우기"
      ],
      "metadata": {
        "id": "yDOX1U07iVen"
      },
      "execution_count": null,
      "outputs": []
    },
    {
      "cell_type": "code",
      "source": [
        "print(torch.zeros_like(x)) # 입력 텐서와 크기를 동일하게 하면서 값을 0으로 채우기"
      ],
      "metadata": {
        "id": "jyRFLkptiW53"
      },
      "execution_count": null,
      "outputs": []
    },
    {
      "cell_type": "markdown",
      "source": [
        "### In-place Operation (덮어쓰기 연산)"
      ],
      "metadata": {
        "id": "ByM7KA5gihWR"
      }
    },
    {
      "cell_type": "code",
      "source": [
        "x = torch.FloatTensor([[1, 2], [3, 4]])"
      ],
      "metadata": {
        "id": "50VqHNkBiih3"
      },
      "execution_count": null,
      "outputs": []
    },
    {
      "cell_type": "code",
      "source": [
        "print(x.mul(2.)) # 곱하기 2를 수행한 결과를 출력\n",
        "print(x) # 기존의 값 출력"
      ],
      "metadata": {
        "id": "_yxZ0yi4ij1n"
      },
      "execution_count": null,
      "outputs": []
    },
    {
      "cell_type": "code",
      "source": [
        "print(x.mul_(2.))  # 곱하기 2를 수행한 결과를 변수 x에 값을 저장하면서 결과를 출력\n",
        "print(x) # 기존의 값 출력"
      ],
      "metadata": {
        "id": "gFbQp-Qiilro"
      },
      "execution_count": null,
      "outputs": []
    }
  ]
}