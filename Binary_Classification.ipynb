{
  "nbformat": 4,
  "nbformat_minor": 0,
  "metadata": {
    "colab": {
      "provenance": [],
      "mount_file_id": "1fgjzv7XM8WmmuiIwMwL0u7clck7qz4hj",
      "authorship_tag": "ABX9TyPQcVPppLVrDM+CvonV9MWQ",
      "include_colab_link": true
    },
    "kernelspec": {
      "name": "python3",
      "display_name": "Python 3"
    },
    "language_info": {
      "name": "python"
    }
  },
  "cells": [
    {
      "cell_type": "markdown",
      "metadata": {
        "id": "view-in-github",
        "colab_type": "text"
      },
      "source": [
        "<a href=\"https://colab.research.google.com/github/DonghaeSuh/PyTorch_Basic/blob/main/Binary_Classification.ipynb\" target=\"_parent\"><img src=\"https://colab.research.google.com/assets/colab-badge.svg\" alt=\"Open In Colab\"/></a>"
      ]
    },
    {
      "cell_type": "code",
      "source": [
        "from google.colab import drive\n",
        "drive.mount('/content/drive')"
      ],
      "metadata": {
        "colab": {
          "base_uri": "https://localhost:8080/",
          "height": 345
        },
        "id": "evdYj7qyHuhU",
        "outputId": "d1b1f62d-d83d-4142-fd55-4c5f96c3e015"
      },
      "execution_count": 1,
      "outputs": [
        {
          "output_type": "error",
          "ename": "KeyboardInterrupt",
          "evalue": "ignored",
          "traceback": [
            "\u001b[0;31m---------------------------------------------------------------------------\u001b[0m",
            "\u001b[0;31mKeyboardInterrupt\u001b[0m                         Traceback (most recent call last)",
            "\u001b[0;32m<ipython-input-1-d5df0069828e>\u001b[0m in \u001b[0;36m<module>\u001b[0;34m\u001b[0m\n\u001b[1;32m      1\u001b[0m \u001b[0;32mfrom\u001b[0m \u001b[0mgoogle\u001b[0m\u001b[0;34m.\u001b[0m\u001b[0mcolab\u001b[0m \u001b[0;32mimport\u001b[0m \u001b[0mdrive\u001b[0m\u001b[0;34m\u001b[0m\u001b[0;34m\u001b[0m\u001b[0m\n\u001b[0;32m----> 2\u001b[0;31m \u001b[0mdrive\u001b[0m\u001b[0;34m.\u001b[0m\u001b[0mmount\u001b[0m\u001b[0;34m(\u001b[0m\u001b[0;34m'/content/drive'\u001b[0m\u001b[0;34m)\u001b[0m\u001b[0;34m\u001b[0m\u001b[0;34m\u001b[0m\u001b[0m\n\u001b[0m",
            "\u001b[0;32m/usr/local/lib/python3.8/dist-packages/google/colab/drive.py\u001b[0m in \u001b[0;36mmount\u001b[0;34m(mountpoint, force_remount, timeout_ms, readonly)\u001b[0m\n\u001b[1;32m     98\u001b[0m \u001b[0;32mdef\u001b[0m \u001b[0mmount\u001b[0m\u001b[0;34m(\u001b[0m\u001b[0mmountpoint\u001b[0m\u001b[0;34m,\u001b[0m \u001b[0mforce_remount\u001b[0m\u001b[0;34m=\u001b[0m\u001b[0;32mFalse\u001b[0m\u001b[0;34m,\u001b[0m \u001b[0mtimeout_ms\u001b[0m\u001b[0;34m=\u001b[0m\u001b[0;36m120000\u001b[0m\u001b[0;34m,\u001b[0m \u001b[0mreadonly\u001b[0m\u001b[0;34m=\u001b[0m\u001b[0;32mFalse\u001b[0m\u001b[0;34m)\u001b[0m\u001b[0;34m:\u001b[0m\u001b[0;34m\u001b[0m\u001b[0;34m\u001b[0m\u001b[0m\n\u001b[1;32m     99\u001b[0m   \u001b[0;34m\"\"\"Mount your Google Drive at the specified mountpoint path.\"\"\"\u001b[0m\u001b[0;34m\u001b[0m\u001b[0;34m\u001b[0m\u001b[0m\n\u001b[0;32m--> 100\u001b[0;31m   return _mount(\n\u001b[0m\u001b[1;32m    101\u001b[0m       \u001b[0mmountpoint\u001b[0m\u001b[0;34m,\u001b[0m\u001b[0;34m\u001b[0m\u001b[0;34m\u001b[0m\u001b[0m\n\u001b[1;32m    102\u001b[0m       \u001b[0mforce_remount\u001b[0m\u001b[0;34m=\u001b[0m\u001b[0mforce_remount\u001b[0m\u001b[0;34m,\u001b[0m\u001b[0;34m\u001b[0m\u001b[0;34m\u001b[0m\u001b[0m\n",
            "\u001b[0;32m/usr/local/lib/python3.8/dist-packages/google/colab/drive.py\u001b[0m in \u001b[0;36m_mount\u001b[0;34m(mountpoint, force_remount, timeout_ms, ephemeral, readonly)\u001b[0m\n\u001b[1;32m    121\u001b[0m       'TBE_EPHEM_CREDS_ADDR'] if ephemeral else _os.environ['TBE_CREDS_ADDR']\n\u001b[1;32m    122\u001b[0m   \u001b[0;32mif\u001b[0m \u001b[0mephemeral\u001b[0m\u001b[0;34m:\u001b[0m\u001b[0;34m\u001b[0m\u001b[0;34m\u001b[0m\u001b[0m\n\u001b[0;32m--> 123\u001b[0;31m     _message.blocking_request(\n\u001b[0m\u001b[1;32m    124\u001b[0m         'request_auth', request={'authType': 'dfs_ephemeral'}, timeout_sec=None)\n\u001b[1;32m    125\u001b[0m \u001b[0;34m\u001b[0m\u001b[0m\n",
            "\u001b[0;32m/usr/local/lib/python3.8/dist-packages/google/colab/_message.py\u001b[0m in \u001b[0;36mblocking_request\u001b[0;34m(request_type, request, timeout_sec, parent)\u001b[0m\n\u001b[1;32m    169\u001b[0m   request_id = send_request(\n\u001b[1;32m    170\u001b[0m       request_type, request, parent=parent, expect_reply=True)\n\u001b[0;32m--> 171\u001b[0;31m   \u001b[0;32mreturn\u001b[0m \u001b[0mread_reply_from_input\u001b[0m\u001b[0;34m(\u001b[0m\u001b[0mrequest_id\u001b[0m\u001b[0;34m,\u001b[0m \u001b[0mtimeout_sec\u001b[0m\u001b[0;34m)\u001b[0m\u001b[0;34m\u001b[0m\u001b[0;34m\u001b[0m\u001b[0m\n\u001b[0m",
            "\u001b[0;32m/usr/local/lib/python3.8/dist-packages/google/colab/_message.py\u001b[0m in \u001b[0;36mread_reply_from_input\u001b[0;34m(message_id, timeout_sec)\u001b[0m\n\u001b[1;32m     95\u001b[0m     \u001b[0mreply\u001b[0m \u001b[0;34m=\u001b[0m \u001b[0m_read_next_input_message\u001b[0m\u001b[0;34m(\u001b[0m\u001b[0;34m)\u001b[0m\u001b[0;34m\u001b[0m\u001b[0;34m\u001b[0m\u001b[0m\n\u001b[1;32m     96\u001b[0m     \u001b[0;32mif\u001b[0m \u001b[0mreply\u001b[0m \u001b[0;34m==\u001b[0m \u001b[0m_NOT_READY\u001b[0m \u001b[0;32mor\u001b[0m \u001b[0;32mnot\u001b[0m \u001b[0misinstance\u001b[0m\u001b[0;34m(\u001b[0m\u001b[0mreply\u001b[0m\u001b[0;34m,\u001b[0m \u001b[0mdict\u001b[0m\u001b[0;34m)\u001b[0m\u001b[0;34m:\u001b[0m\u001b[0;34m\u001b[0m\u001b[0;34m\u001b[0m\u001b[0m\n\u001b[0;32m---> 97\u001b[0;31m       \u001b[0mtime\u001b[0m\u001b[0;34m.\u001b[0m\u001b[0msleep\u001b[0m\u001b[0;34m(\u001b[0m\u001b[0;36m0.025\u001b[0m\u001b[0;34m)\u001b[0m\u001b[0;34m\u001b[0m\u001b[0;34m\u001b[0m\u001b[0m\n\u001b[0m\u001b[1;32m     98\u001b[0m       \u001b[0;32mcontinue\u001b[0m\u001b[0;34m\u001b[0m\u001b[0;34m\u001b[0m\u001b[0m\n\u001b[1;32m     99\u001b[0m     if (reply.get('type') == 'colab_reply' and\n",
            "\u001b[0;31mKeyboardInterrupt\u001b[0m: "
          ]
        }
      ]
    },
    {
      "cell_type": "code",
      "source": [
        "cd drive/MyDrive/pytorch"
      ],
      "metadata": {
        "colab": {
          "base_uri": "https://localhost:8080/"
        },
        "id": "a6onBnUInoHc",
        "outputId": "446fd0d7-eb59-4607-dd10-dae0719254d8"
      },
      "execution_count": 8,
      "outputs": [
        {
          "output_type": "stream",
          "name": "stdout",
          "text": [
            "/content/drive/MyDrive/pytorch\n"
          ]
        }
      ]
    },
    {
      "cell_type": "markdown",
      "source": [
        "### 라이브러리 불러오기"
      ],
      "metadata": {
        "id": "wD2vSRlEaEaL"
      }
    },
    {
      "cell_type": "code",
      "source": [
        "import torch\n",
        "import pandas as pd\n",
        "from torch import nn\n",
        "from torch import optim\n",
        "from torch.utils.data import Dataset, DataLoader"
      ],
      "metadata": {
        "id": "lNxo7mqXaGKD"
      },
      "execution_count": 14,
      "outputs": []
    },
    {
      "cell_type": "markdown",
      "source": [
        "### Dataset Class"
      ],
      "metadata": {
        "id": "UG0AMizKcLJO"
      }
    },
    {
      "cell_type": "code",
      "source": [
        "class CustomDataset(Dataset):\n",
        "  def __init__(self,path):\n",
        "    df=pd.read_csv(path)\n",
        "    self.x1=df.iloc[:,0].values\n",
        "    self.x2=df.iloc[:,1].values\n",
        "    self.x3=df.iloc[:,2].values\n",
        "    self.y=df.iloc[:,3].values\n",
        "    self.length=len(df)\n",
        "\n",
        "  def __getitem__(self,index):\n",
        "    x=torch.FloatTensor([self.x1[index],self.x2[index],self.x3[index]])\n",
        "    y=torch.FloatTensor([self.y[index]])\n",
        "    return x,y\n",
        "\n",
        "  def __len__(self):\n",
        "    return self.length"
      ],
      "metadata": {
        "id": "JwI5nIiGaU60"
      },
      "execution_count": 15,
      "outputs": []
    },
    {
      "cell_type": "markdown",
      "source": [
        "### Model Class"
      ],
      "metadata": {
        "id": "moPdQPUblfeO"
      }
    },
    {
      "cell_type": "code",
      "source": [
        "class CustomModel(nn.Module):\n",
        "  def __init__(self):\n",
        "    super(CustomModel,self).__init__()\n",
        "    self.layer=nn.Sequential(\n",
        "        nn.Linear(3,1),\n",
        "        nn.Sigmoid()\n",
        "    )\n",
        "\n",
        "  def forward(self,x):\n",
        "    x=self.layer(x)\n",
        "    return x"
      ],
      "metadata": {
        "id": "zghhBV83lh4e"
      },
      "execution_count": 22,
      "outputs": []
    },
    {
      "cell_type": "markdown",
      "source": [
        "### dataset Load"
      ],
      "metadata": {
        "id": "Y1G9RBzNgJ8V"
      }
    },
    {
      "cell_type": "code",
      "source": [
        "train_dataset = CustomDataset(\"./dataset.csv\")\n",
        "train_dataloader=DataLoader(train_dataset,batch_size=128,shuffle=True,drop_last=True)"
      ],
      "metadata": {
        "id": "hUhlQNbSgJc4"
      },
      "execution_count": 23,
      "outputs": []
    },
    {
      "cell_type": "markdown",
      "source": [
        "### Compile"
      ],
      "metadata": {
        "id": "f7BSQE15ggad"
      }
    },
    {
      "cell_type": "code",
      "source": [
        "device = 'cuda' if torch.cuda.is_available() else 'cpu'\n",
        "\n",
        "model=CustomModel().to(device)\n",
        "criterion=nn.BCELoss().to(device)\n",
        "optimizer=optim.SGD(model.parameters(),lr=0.0001)"
      ],
      "metadata": {
        "id": "T4fFYEUughz2"
      },
      "execution_count": 24,
      "outputs": []
    },
    {
      "cell_type": "markdown",
      "source": [
        "### Training"
      ],
      "metadata": {
        "id": "uoqXxIumnok1"
      }
    },
    {
      "cell_type": "markdown",
      "source": [
        "![image.png](data:image/png;base64,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)"
      ],
      "metadata": {
        "id": "Lq37OfllqAeO"
      }
    },
    {
      "cell_type": "code",
      "source": [
        "for epoch in range(10000):\n",
        "  cost=0.0\n",
        "\n",
        "  for x,y in train_dataloader:\n",
        "    \n",
        "    x=x.to(device)\n",
        "    y=y.to(device)\n",
        "\n",
        "    output = model(x)\n",
        "\n",
        "    loss = criterion(output,y)\n",
        "\n",
        "    optimizer.zero_grad()\n",
        "    loss.backward()\n",
        "    optimizer.step()\n",
        "\n",
        "    cost+=loss\n",
        "\n",
        "  cost = cost/len(train_dataloader)\n",
        "\n",
        "  if (epoch+1)%1000 == 0 :\n",
        "    print(f\"Epoch : {epoch+1:4d}, Model : {list(model.parameters())}, Cost: {cost:.3f}\")"
      ],
      "metadata": {
        "id": "3cjMCUk_l0Gu",
        "colab": {
          "base_uri": "https://localhost:8080/"
        },
        "outputId": "e70d5a12-a1b9-4614-dea8-943c324cab97"
      },
      "execution_count": 25,
      "outputs": [
        {
          "output_type": "stream",
          "name": "stderr",
          "text": [
            "<ipython-input-15-881aa88e421c>:12: DeprecationWarning: In future, it will be an error for 'np.bool_' scalars to be interpreted as an index\n",
            "  y=torch.FloatTensor([self.y[index]])\n"
          ]
        },
        {
          "output_type": "stream",
          "name": "stdout",
          "text": [
            "Epoch : 1000, Model : [Parameter containing:\n",
            "tensor([[0.0052, 0.0023, 0.0043]], requires_grad=True), Parameter containing:\n",
            "tensor([-0.2935], requires_grad=True)], Cost: 0.639\n",
            "Epoch : 2000, Model : [Parameter containing:\n",
            "tensor([[0.0057, 0.0027, 0.0048]], requires_grad=True), Parameter containing:\n",
            "tensor([-0.3643], requires_grad=True)], Cost: 0.630\n",
            "Epoch : 3000, Model : [Parameter containing:\n",
            "tensor([[0.0060, 0.0028, 0.0053]], requires_grad=True), Parameter containing:\n",
            "tensor([-0.4342], requires_grad=True)], Cost: 0.622\n",
            "Epoch : 4000, Model : [Parameter containing:\n",
            "tensor([[0.0062, 0.0039, 0.0055]], requires_grad=True), Parameter containing:\n",
            "tensor([-0.5031], requires_grad=True)], Cost: 0.618\n",
            "Epoch : 5000, Model : [Parameter containing:\n",
            "tensor([[0.0064, 0.0038, 0.0057]], requires_grad=True), Parameter containing:\n",
            "tensor([-0.5710], requires_grad=True)], Cost: 0.610\n",
            "Epoch : 6000, Model : [Parameter containing:\n",
            "tensor([[0.0076, 0.0043, 0.0061]], requires_grad=True), Parameter containing:\n",
            "tensor([-0.6379], requires_grad=True)], Cost: 0.603\n",
            "Epoch : 7000, Model : [Parameter containing:\n",
            "tensor([[0.0074, 0.0049, 0.0070]], requires_grad=True), Parameter containing:\n",
            "tensor([-0.7040], requires_grad=True)], Cost: 0.592\n",
            "Epoch : 8000, Model : [Parameter containing:\n",
            "tensor([[0.0078, 0.0056, 0.0069]], requires_grad=True), Parameter containing:\n",
            "tensor([-0.7691], requires_grad=True)], Cost: 0.590\n",
            "Epoch : 9000, Model : [Parameter containing:\n",
            "tensor([[0.0082, 0.0055, 0.0071]], requires_grad=True), Parameter containing:\n",
            "tensor([-0.8333], requires_grad=True)], Cost: 0.587\n",
            "Epoch : 10000, Model : [Parameter containing:\n",
            "tensor([[0.0082, 0.0062, 0.0076]], requires_grad=True), Parameter containing:\n",
            "tensor([-0.8967], requires_grad=True)], Cost: 0.582\n"
          ]
        }
      ]
    },
    {
      "cell_type": "markdown",
      "source": [
        "### TEST"
      ],
      "metadata": {
        "id": "Z4Lb6koLs1ZO"
      }
    },
    {
      "cell_type": "code",
      "source": [
        "with torch.no_grad():\n",
        "  model.eval()\n",
        "\n",
        "  input= torch.FloatTensor(\n",
        "      [[89, 92, 75], [75, 64, 50], [38, 58, 63], [33, 42, 39], [23, 15, 32]]\n",
        "  ).to(device)\n",
        "\n",
        "  outputs=model(input)\n",
        "\n",
        "  print(\"----------\")\n",
        "  print(outputs)\n",
        "  print(outputs>= torch.FloatTensor([0.5]).to(device))"
      ],
      "metadata": {
        "colab": {
          "base_uri": "https://localhost:8080/"
        },
        "id": "xLsxMfS7rUre",
        "outputId": "d2fd1e56-ca4d-4758-b521-1d61d0b95dde"
      },
      "execution_count": 26,
      "outputs": [
        {
          "output_type": "stream",
          "name": "stdout",
          "text": [
            "----------\n",
            "tensor([[0.7252],\n",
            "        [0.6209],\n",
            "        [0.5624],\n",
            "        [0.4823],\n",
            "        [0.4079]])\n",
            "tensor([[ True],\n",
            "        [ True],\n",
            "        [ True],\n",
            "        [False],\n",
            "        [False]])\n"
          ]
        }
      ]
    }
  ]
}