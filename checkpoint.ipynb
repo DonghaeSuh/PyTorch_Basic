{
  "nbformat": 4,
  "nbformat_minor": 0,
  "metadata": {
    "colab": {
      "provenance": [],
      "mount_file_id": "1QML-s3hSBeMJ_4Y2Qs-muN5OfT9pqxKH",
      "authorship_tag": "ABX9TyN1/hHbTYVZ4sRq1OI2KmR6",
      "include_colab_link": true
    },
    "kernelspec": {
      "name": "python3",
      "display_name": "Python 3"
    },
    "language_info": {
      "name": "python"
    },
    "accelerator": "GPU",
    "gpuClass": "standard"
  },
  "cells": [
    {
      "cell_type": "markdown",
      "metadata": {
        "id": "view-in-github",
        "colab_type": "text"
      },
      "source": [
        "<a href=\"https://colab.research.google.com/github/DonghaeSuh/PyTorch_Basic/blob/main/checkpoint.ipynb\" target=\"_parent\"><img src=\"https://colab.research.google.com/assets/colab-badge.svg\" alt=\"Open In Colab\"/></a>"
      ]
    },
    {
      "cell_type": "markdown",
      "source": [
        "### 파일 경로 설정"
      ],
      "metadata": {
        "id": "bO8YtfXvrtmN"
      }
    },
    {
      "cell_type": "code",
      "source": [
        "cd drive/MyDrive/pytorch"
      ],
      "metadata": {
        "colab": {
          "base_uri": "https://localhost:8080/"
        },
        "id": "zCcLZ2SqrxOl",
        "outputId": "09093440-cc44-425b-feea-bb86696196ef"
      },
      "execution_count": 1,
      "outputs": [
        {
          "output_type": "stream",
          "name": "stdout",
          "text": [
            "/content/drive/MyDrive/pytorch\n"
          ]
        }
      ]
    },
    {
      "cell_type": "code",
      "source": [
        "ls"
      ],
      "metadata": {
        "colab": {
          "base_uri": "https://localhost:8080/"
        },
        "id": "EtFcNsmJxCMR",
        "outputId": "c7498547-8a41-4740-b60a-115b685ca82d"
      },
      "execution_count": 2,
      "outputs": [
        {
          "output_type": "stream",
          "name": "stdout",
          "text": [
            "check  dataset.csv  Model.ipynb  model.pt  model_state_dict.pt\n"
          ]
        }
      ]
    },
    {
      "cell_type": "code",
      "execution_count": 3,
      "metadata": {
        "id": "QPMqzcX7Yawh"
      },
      "outputs": [],
      "source": [
        "import torch\n",
        "import pandas as pd\n",
        "from torch import nn\n",
        "from torch import optim\n",
        "from torch.utils.data import Dataset,DataLoader"
      ]
    },
    {
      "cell_type": "code",
      "source": [
        "class CustomDataset(Dataset):\n",
        "  def __init__(self,file_path):\n",
        "    df=pd.read_csv(file_path)\n",
        "    self.x=df.iloc[:,0].values\n",
        "    self.y=df.iloc[:,1].values\n",
        "    self.length=len(df)\n",
        "\n",
        "  def __getitem__(self,index):\n",
        "    x=torch.FloatTensor([self.x[index]**2,self.x[index]])\n",
        "    y=torch.FloatTensor([self.y[index]])\n",
        "    return x,y\n",
        "\n",
        "  def __len__(self):\n",
        "    return self.length\n",
        "\n",
        "\n",
        "class CustomModel(nn.Module):\n",
        "  def __init__(self):\n",
        "    super(CustomModel,self).__init__()\n",
        "    self.layer=nn.Linear(2,1)\n",
        "\n",
        "  def forward(self,x):\n",
        "    x=self.layer(x)\n",
        "    return x\n",
        "\n",
        "\n",
        "train_dataset=CustomDataset(\"./dataset.csv\")\n",
        "train_dataloader = DataLoader(train_dataset,batch_size=128,shuffle=True,drop_last=True)\n",
        "\n",
        "device=\"cuda\" if torch.cuda.is_available else \"cpu\"\n",
        "model=CustomModel().to(device)\n",
        "criterion=nn.MSELoss().to(device)\n",
        "optimizer=optim.SGD(model.parameters(),lr=0.0001)\n",
        "\n",
        "checkpoint=1\n",
        "\n",
        "for epoch in range(10000):\n",
        "  cost=0.0\n",
        "\n",
        "  for x,y in train_dataloader:\n",
        "    x=x.to(device)\n",
        "    y=y.to(device)\n",
        "\n",
        "    output=model(x)\n",
        "    loss=criterion(output,y)\n",
        "\n",
        "    optimizer.zero_grad()\n",
        "    loss.backward()\n",
        "    optimizer.step()\n",
        "\n",
        "    cost+=loss\n",
        "  \n",
        "  cost=cost/len(train_dataloader)\n",
        "\n",
        "  if (epoch+1)%1000==0:\n",
        "    torch.save(\n",
        "        {\n",
        "            \"model\":\"CustomModel\",\n",
        "            \"epoch\": epoch,\n",
        "            \"model_state_dict\":model.state_dict(),\n",
        "            \"optimizer_state_dict\":optimizer.state_dict(),\n",
        "            \"cost\":cost,\n",
        "            \"description\":f\"CustomModel 체크포인트-{checkpoint}\",\n",
        "        },\n",
        "        f\"./checkpoint-{checkpoint}.pt\",\n",
        "    )\n",
        "    print(checkpoint)\n",
        "    checkpoint+=1\n",
        "    \n",
        "  "
      ],
      "metadata": {
        "colab": {
          "base_uri": "https://localhost:8080/"
        },
        "id": "neJkcjp-sCzV",
        "outputId": "68444ace-79de-4b63-fd9c-c779cf975ce1"
      },
      "execution_count": 16,
      "outputs": [
        {
          "output_type": "stream",
          "name": "stdout",
          "text": [
            "1\n",
            "2\n",
            "3\n",
            "4\n",
            "5\n",
            "6\n",
            "7\n",
            "8\n",
            "9\n",
            "10\n"
          ]
        }
      ]
    },
    {
      "cell_type": "markdown",
      "source": [
        "### 체크포인트 불러오기"
      ],
      "metadata": {
        "id": "nXqoDavRyOTm"
      }
    },
    {
      "cell_type": "code",
      "source": [
        "class CustomDataset(Dataset):\n",
        "  def __init__(self,file_path):\n",
        "    df=pd.read_csv(file_path)\n",
        "    self.x=df.iloc[:,0].values\n",
        "    self.y=df.iloc[:,1].values\n",
        "    self.length=len(df)\n",
        "\n",
        "  def __getitem__(self,index):\n",
        "    x=torch.FloatTensor([self.x[index]**2,self.x[index]])\n",
        "    y=torch.FloatTensor([self.y[index]])\n",
        "    return x,y\n",
        "\n",
        "  def __len__(self):\n",
        "    return self.length\n",
        "\n",
        "\n",
        "class CustomModel(nn.Module):\n",
        "  def __init__(self):\n",
        "    super(CustomModel,self).__init__()\n",
        "    self.layer=nn.Linear(2,1)\n",
        "\n",
        "  def forward(self,x):\n",
        "    x=self.layer(x)\n",
        "    return x\n",
        "\n",
        "\n",
        "train_dataset=CustomDataset(\"./dataset.csv\")\n",
        "train_dataloader = DataLoader(train_dataset,batch_size=128,shuffle=True,drop_last=True)\n",
        "\n",
        "device=\"cuda\" if torch.cuda.is_available else \"cpu\"\n",
        "model=CustomModel().to(device)\n",
        "criterion=nn.MSELoss().to(device)\n",
        "optimizer=optim.SGD(model.parameters(),lr=0.0001)\n",
        "\n",
        "checkpoint=torch.load(\"./checkpoint-6.pt\")\n",
        "model.load_state_dict(checkpoint[\"model_state_dict\"])\n",
        "optimizer.load_state_dict(checkpoint[\"optimizer_state_dict\"])\n",
        "checkpoint_epoch=checkpoint[\"epoch\"]\n",
        "checkpoint_description=checkpoint[\"description\"]\n",
        "\n",
        "print(checkpoint_description)\n",
        "\n",
        "for epoch in range(checkpoint_epoch+1,10000):\n",
        "  cost=0.0\n",
        "\n",
        "  for x,y in train_dataloader:\n",
        "    x=x.to(device)\n",
        "    y=y.to(device)\n",
        "\n",
        "    output=model(x)\n",
        "    loss=criterion(output,y)\n",
        "\n",
        "    optimizer.zero_grad()\n",
        "    loss.backward()\n",
        "    optimizer.step()\n",
        "\n",
        "    cost+=loss\n",
        "\n",
        "    if (epoch + 1) % 1000 == 0:\n",
        "        print(f\"Epoch : {epoch+1:4d}, Model : {list(model.parameters())}, Cost : {cost:.3f}\")\n"
      ],
      "metadata": {
        "colab": {
          "base_uri": "https://localhost:8080/"
        },
        "id": "p8sunv1TxmHs",
        "outputId": "8f642fd5-8658-454c-fb9d-e78a33fc66ad"
      },
      "execution_count": 17,
      "outputs": [
        {
          "output_type": "stream",
          "name": "stdout",
          "text": [
            "CustomModel 체크포인트-6\n",
            "Epoch : 7000, Model : [Parameter containing:\n",
            "tensor([[ 3.1015, -1.7034]], device='cuda:0', requires_grad=True), Parameter containing:\n",
            "tensor([0.4001], device='cuda:0', requires_grad=True)], Cost : 0.083\n",
            "Epoch : 8000, Model : [Parameter containing:\n",
            "tensor([[ 3.1012, -1.7031]], device='cuda:0', requires_grad=True), Parameter containing:\n",
            "tensor([0.4081], device='cuda:0', requires_grad=True)], Cost : 0.077\n",
            "Epoch : 9000, Model : [Parameter containing:\n",
            "tensor([[ 3.1010, -1.7030]], device='cuda:0', requires_grad=True), Parameter containing:\n",
            "tensor([0.4155], device='cuda:0', requires_grad=True)], Cost : 0.078\n",
            "Epoch : 10000, Model : [Parameter containing:\n",
            "tensor([[ 3.1011, -1.7034]], device='cuda:0', requires_grad=True), Parameter containing:\n",
            "tensor([0.4222], device='cuda:0', requires_grad=True)], Cost : 0.072\n"
          ]
        }
      ]
    },
    {
      "cell_type": "code",
      "source": [],
      "metadata": {
        "id": "OBGs-h5eyvlt"
      },
      "execution_count": null,
      "outputs": []
    }
  ]
}