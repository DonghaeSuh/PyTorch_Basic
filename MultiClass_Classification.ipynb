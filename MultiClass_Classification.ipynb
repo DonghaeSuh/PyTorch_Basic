{
  "nbformat": 4,
  "nbformat_minor": 0,
  "metadata": {
    "colab": {
      "provenance": [],
      "mount_file_id": "1rAk7D4MxUGqzwtw9VJpl6jpE0c1fp2t6",
      "authorship_tag": "ABX9TyOqYgexRbKJ3RFwCHphhViX",
      "include_colab_link": true
    },
    "kernelspec": {
      "name": "python3",
      "display_name": "Python 3"
    },
    "language_info": {
      "name": "python"
    },
    "accelerator": "GPU",
    "gpuClass": "standard"
  },
  "cells": [
    {
      "cell_type": "markdown",
      "metadata": {
        "id": "view-in-github",
        "colab_type": "text"
      },
      "source": [
        "<a href=\"https://colab.research.google.com/github/DonghaeSuh/PyTorch_Basic/blob/main/MultiClass_Classification.ipynb\" target=\"_parent\"><img src=\"https://colab.research.google.com/assets/colab-badge.svg\" alt=\"Open In Colab\"/></a>"
      ]
    },
    {
      "cell_type": "markdown",
      "source": [
        "### File direction"
      ],
      "metadata": {
        "id": "5FnXegPA2xJS"
      }
    },
    {
      "cell_type": "code",
      "execution_count": 1,
      "metadata": {
        "id": "zTxLPu6Cum7d",
        "colab": {
          "base_uri": "https://localhost:8080/"
        },
        "outputId": "20eb1563-8dc5-4a42-bcd8-80fba7ccba3e"
      },
      "outputs": [
        {
          "output_type": "stream",
          "name": "stdout",
          "text": [
            "/content/drive/MyDrive/pytorch\n"
          ]
        }
      ],
      "source": [
        "cd drive/MyDrive/pytorch"
      ]
    },
    {
      "cell_type": "markdown",
      "source": [
        "### Library"
      ],
      "metadata": {
        "id": "elNHWZ8G3DNX"
      }
    },
    {
      "cell_type": "code",
      "source": [
        "import torch\n",
        "import pandas as pd\n",
        "from torch import nn\n",
        "from torch import optim\n",
        "from torch.utils.data import Dataset,DataLoader"
      ],
      "metadata": {
        "id": "DG9W_YR23Cgx"
      },
      "execution_count": 2,
      "outputs": []
    },
    {
      "cell_type": "markdown",
      "source": [
        "### CustomDatset"
      ],
      "metadata": {
        "id": "b6TvNV-F3YJ2"
      }
    },
    {
      "cell_type": "code",
      "source": [
        "class CustomDataset(Dataset):\n",
        "    def __init__(self, file_path):\n",
        "        df = pd.read_csv(file_path)\n",
        "        self.a = df.iloc[:, 0].values\n",
        "        self.b = df.iloc[:, 1].values\n",
        "        self.c = df.iloc[:, 2].values\n",
        "        self.y = df.iloc[:, 3].values\n",
        "        self.y = list(map(self.string_to_vector, self.y))\n",
        "        self.length = len(df)\n",
        "\n",
        "    def string_to_vector(self, value):\n",
        "        data = {\"acute triangle\": 0, \"right triangle\": 1, \"obtuse triangle\": 2}\n",
        "        return data.get(value, None)\n",
        "        # dictionary 자료형 key를 통해 value 불러오기 2가지 방법 \n",
        "        # 1. data[원하는 key] => data 내에 원하는 key가 없을 경우 오류\n",
        "        # 2. data.get(원하는 키) => data 내에 원한느 key가 없을 경우 None 반환\n",
        "\n",
        "    def __getitem__(self, index):\n",
        "        x = torch.FloatTensor(sorted([self.a[index], self.b[index], self.c[index]]))\n",
        "        y = torch.LongTensor(self.y)[index]\n",
        "        return x, y\n",
        "\n",
        "    def __len__(self):\n",
        "        return self.length"
      ],
      "metadata": {
        "id": "xBcpMflmEYRp"
      },
      "execution_count": 3,
      "outputs": []
    },
    {
      "cell_type": "markdown",
      "source": [
        "### CustomModel"
      ],
      "metadata": {
        "id": "oyeA3w8hC7NU"
      }
    },
    {
      "cell_type": "code",
      "source": [
        "class CustomModel(nn.Module):\n",
        "  def __init__(self):\n",
        "    super(CustomModel,self).__init__()\n",
        "    self.layer=nn.Sequential(\n",
        "        nn.Linear(3,3)\n",
        "    )\n",
        "\n",
        "  def forward(self,x):\n",
        "    x=self.layer(x)\n",
        "    return x"
      ],
      "metadata": {
        "id": "amx9fPGHC6b0"
      },
      "execution_count": 4,
      "outputs": []
    },
    {
      "cell_type": "markdown",
      "source": [
        "### Data Load"
      ],
      "metadata": {
        "id": "DZIrxLrlBGaL"
      }
    },
    {
      "cell_type": "code",
      "source": [
        "train_dataset = CustomDataset('./dataset.csv')\n",
        "train_dataloader = DataLoader(train_dataset,batch_size=128,shuffle=True,drop_last=True)"
      ],
      "metadata": {
        "id": "x4nAcOh9_ArB"
      },
      "execution_count": 5,
      "outputs": []
    },
    {
      "cell_type": "markdown",
      "source": [
        "### Compile"
      ],
      "metadata": {
        "id": "lnRn6yyiHPHl"
      }
    },
    {
      "cell_type": "code",
      "source": [
        "device='cuda' if torch.cuda.is_available() else 'cpu'\n",
        "model=CustomModel().to(device)\n",
        "criterion=nn.CrossEntropyLoss().to(device)  #Sotmax와 One-hot Encodingㅇ르 자체적을 수행\n",
        "optimizer=optim.SGD(model.parameters(),lr=0.001)"
      ],
      "metadata": {
        "id": "IuMnOZaJDfNh"
      },
      "execution_count": 6,
      "outputs": []
    },
    {
      "cell_type": "markdown",
      "source": [
        "### Train"
      ],
      "metadata": {
        "id": "wHP7iEx6Hu0h"
      }
    },
    {
      "cell_type": "code",
      "source": [
        "for epoch in range(10000):\n",
        "  cost=0.0\n",
        "\n",
        "  for x,y in train_dataloader:\n",
        "    x= x.to(device)\n",
        "    y= y.to(device)\n",
        "\n",
        "    output=model(x)\n",
        "    loss=criterion(output,y)\n",
        "    \n",
        "    optimizer.zero_grad()\n",
        "    loss.backward()\n",
        "    optimizer.step()\n",
        "\n",
        "    cost+=loss\n",
        "  \n",
        "  cost=cost/len(train_dataloader)\n",
        "\n",
        "  if (epoch+1)%1000 ==0:\n",
        "    print(f\"Epoch : {epoch+1}, Cost : {cost:.3f}\")"
      ],
      "metadata": {
        "colab": {
          "base_uri": "https://localhost:8080/"
        },
        "id": "-tglQztJHuJQ",
        "outputId": "059c035b-75b3-4423-a897-c67a595de380"
      },
      "execution_count": 7,
      "outputs": [
        {
          "output_type": "stream",
          "name": "stdout",
          "text": [
            "Epoch : 1000, Cost : 0.209\n",
            "Epoch : 2000, Cost : 0.131\n",
            "Epoch : 3000, Cost : 0.098\n",
            "Epoch : 4000, Cost : 0.077\n",
            "Epoch : 5000, Cost : 0.063\n",
            "Epoch : 6000, Cost : 0.054\n",
            "Epoch : 7000, Cost : 0.046\n",
            "Epoch : 8000, Cost : 0.041\n",
            "Epoch : 9000, Cost : 0.038\n",
            "Epoch : 10000, Cost : 0.034\n"
          ]
        }
      ]
    },
    {
      "cell_type": "markdown",
      "source": [
        "### Evaluation"
      ],
      "metadata": {
        "id": "VI54O3bNPIWk"
      }
    },
    {
      "cell_type": "code",
      "source": [
        "import torch.nn.functional as F"
      ],
      "metadata": {
        "id": "ga03udpEe4TC"
      },
      "execution_count": 12,
      "outputs": []
    },
    {
      "cell_type": "code",
      "source": [
        "with torch.no_grad():\n",
        "  model.eval()\n",
        "  classes={\"acute triangle\": 0, \"right triangle\": 1, \"obtuse triangle\": 2}\n",
        "  \n",
        "  inputs = torch.FloatTensor([\n",
        "        [9.02, 9.77, 9.96], # 0 | acute triangle\n",
        "        [8.01, 8.08, 8.32], # 0 | acute triangle\n",
        "        [3.55, 5.15, 6.26], # 1 | right triangle\n",
        "        [3.32, 3.93, 5.14], # 1 | right triangle\n",
        "        [4.39, 5.56, 9.99], # 2 | obtuse triangle\n",
        "        [3.01, 3.08, 9.98], # 2 | obtuse triangle\n",
        "        [5.21, 5.38, 5.39], # 0 | acute triangle\n",
        "        [3.85, 6.23, 7.32], # 1 | right triangle\n",
        "        [4.16, 4.98, 8.54], # 2 | obtuse triangle\n",
        "    ]).to(device)\n",
        "\n",
        "  outputs=model(inputs)\n",
        "\n",
        "  print(\"---------------\")\n",
        "  print(outputs)\n",
        "  print(torch.round(F.softmax(outputs,dim=1),decimals=2))\n",
        "  print(outputs.argmax(1))\n",
        "  print(list(map(classes.get, outputs.argmax(1).tolist())))"
      ],
      "metadata": {
        "id": "1HMABnelO-K6",
        "colab": {
          "base_uri": "https://localhost:8080/"
        },
        "outputId": "0f2db57d-ca4a-4907-e001-6e17fe08266a"
      },
      "execution_count": 14,
      "outputs": [
        {
          "output_type": "stream",
          "name": "stdout",
          "text": [
            "---------------\n",
            "tensor([[ 10.0657,   3.2141, -11.2890],\n",
            "        [  9.1139,   2.5519, -10.3917],\n",
            "        [ -0.6240,   2.9873,  -0.4660],\n",
            "        [ -0.3829,   2.2661,  -0.7102],\n",
            "        [ -8.0747,   3.6197,   8.4197],\n",
            "        [-15.7149,   3.1554,  16.9965],\n",
            "        [  5.8136,   2.0347,  -7.3313],\n",
            "        [ -0.8097,   3.5920,  -0.2466],\n",
            "        [ -5.7497,   3.1246,   5.7025]], device='cuda:0')\n",
            "tensor([[1.0000, 0.0000, 0.0000],\n",
            "        [1.0000, 0.0000, 0.0000],\n",
            "        [0.0300, 0.9400, 0.0300],\n",
            "        [0.0600, 0.8900, 0.0500],\n",
            "        [0.0000, 0.0100, 0.9900],\n",
            "        [0.0000, 0.0000, 1.0000],\n",
            "        [0.9800, 0.0200, 0.0000],\n",
            "        [0.0100, 0.9700, 0.0200],\n",
            "        [0.0000, 0.0700, 0.9300]], device='cuda:0')\n",
            "tensor([0, 0, 1, 1, 2, 2, 0, 1, 2], device='cuda:0')\n",
            "[None, None, None, None, None, None, None, None, None]\n"
          ]
        }
      ]
    }
  ]
}