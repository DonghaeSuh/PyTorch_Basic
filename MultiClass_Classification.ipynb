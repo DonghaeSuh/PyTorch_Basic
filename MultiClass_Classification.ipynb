{
  "nbformat": 4,
  "nbformat_minor": 0,
  "metadata": {
    "colab": {
      "provenance": [],
      "authorship_tag": "ABX9TyOGaskPeDLaAZwT/urABYxc",
      "include_colab_link": true
    },
    "kernelspec": {
      "name": "python3",
      "display_name": "Python 3"
    },
    "language_info": {
      "name": "python"
    }
  },
  "cells": [
    {
      "cell_type": "markdown",
      "metadata": {
        "id": "view-in-github",
        "colab_type": "text"
      },
      "source": [
        "<a href=\"https://colab.research.google.com/github/DonghaeSuh/PyTorch_Basic/blob/main/MultiClass_Classification.ipynb\" target=\"_parent\"><img src=\"https://colab.research.google.com/assets/colab-badge.svg\" alt=\"Open In Colab\"/></a>"
      ]
    },
    {
      "cell_type": "markdown",
      "source": [
        "### File direction"
      ],
      "metadata": {
        "id": "5FnXegPA2xJS"
      }
    },
    {
      "cell_type": "code",
      "execution_count": 3,
      "metadata": {
        "id": "zTxLPu6Cum7d",
        "colab": {
          "base_uri": "https://localhost:8080/"
        },
        "outputId": "3eea8502-a4bd-42c2-8369-ab2865d7ffc2"
      },
      "outputs": [
        {
          "output_type": "stream",
          "name": "stdout",
          "text": [
            "[Errno 2] No such file or directory: 'drive/MyDrive/pytorch'\n",
            "/content\n"
          ]
        }
      ],
      "source": [
        "cd drive/MyDrive/pytorch"
      ]
    },
    {
      "cell_type": "markdown",
      "source": [
        "### Library"
      ],
      "metadata": {
        "id": "elNHWZ8G3DNX"
      }
    },
    {
      "cell_type": "code",
      "source": [
        "import torch\n",
        "import pandas as pd\n",
        "from torch import nn\n",
        "from torch import optim\n",
        "from torch.utils.data import Dataset,DataLoader"
      ],
      "metadata": {
        "id": "DG9W_YR23Cgx"
      },
      "execution_count": 2,
      "outputs": []
    },
    {
      "cell_type": "markdown",
      "source": [
        "### CustomDatset"
      ],
      "metadata": {
        "id": "b6TvNV-F3YJ2"
      }
    },
    {
      "cell_type": "code",
      "source": [
        "class CustomDataset(Dataset):\n",
        "  def __init__(self,path):\n",
        "    df=pd.read_csv(path)\n",
        "    self.a=df.iloc[:,0].values\n",
        "    self.b=df.iloc[:,1].values\n",
        "    self.c=df.iloc[:.2].values\n",
        "    self.y=df.iloc[:,3].vlaues\n",
        "    self.y=[str_2_vec(i) for i in self.y] # list comprehension / or list(map(self.str_2_vec,self.y))\n",
        "    self.length=len(df)\n",
        "\n",
        "\n",
        "  def str_2_vec(self,value):\n",
        "    data={\"acute triangle\" : 0, \"right triangle\" : 1, \"obtuse triangle\" : 2}\n",
        "    return data[vlaue]  # dictionary 자료형 key를 통해 value 불러오기 2가지 방법 \n",
        "    # 1. data[원하는 key] => data 내에 원하는 key가 없을 경우 오류\n",
        "    # 2. data.get(원하는 키) => data 내에 원한느 key가 없을 경우 None 반환\n",
        "\n",
        "  def __getitem__(self,index):\n",
        "    x= torch.FloatTensor(sorted([self.a[index],self.b[index],self.c[index]]))\n",
        "    y=torch.LongTensor([self.y[index]])  # => torch.LongTensor(self.y)[index]\n",
        "    return x,y\n",
        "\n",
        "  def __len__(self):\n",
        "    return self.length"
      ],
      "metadata": {
        "id": "fdJePNqi3fBf"
      },
      "execution_count": 24,
      "outputs": []
    },
    {
      "cell_type": "markdown",
      "source": [
        "### CustomModel"
      ],
      "metadata": {
        "id": "oyeA3w8hC7NU"
      }
    },
    {
      "cell_type": "code",
      "source": [],
      "metadata": {
        "id": "amx9fPGHC6b0"
      },
      "execution_count": null,
      "outputs": []
    }
  ]
}