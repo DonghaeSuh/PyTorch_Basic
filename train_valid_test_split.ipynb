{
  "nbformat": 4,
  "nbformat_minor": 0,
  "metadata": {
    "colab": {
      "provenance": [],
      "mount_file_id": "1667KRDHKwg-U-opAR50lDpBglIUPfUCQ",
      "authorship_tag": "ABX9TyMfMAjcQIy7DYAQWUaAUHYV",
      "include_colab_link": true
    },
    "kernelspec": {
      "name": "python3",
      "display_name": "Python 3"
    },
    "language_info": {
      "name": "python"
    }
  },
  "cells": [
    {
      "cell_type": "markdown",
      "metadata": {
        "id": "view-in-github",
        "colab_type": "text"
      },
      "source": [
        "<a href=\"https://colab.research.google.com/github/DonghaeSuh/PyTorch_Basic/blob/main/train_valid_test_split.ipynb\" target=\"_parent\"><img src=\"https://colab.research.google.com/assets/colab-badge.svg\" alt=\"Open In Colab\"/></a>"
      ]
    },
    {
      "cell_type": "markdown",
      "source": [
        "### 현재 위치 설정"
      ],
      "metadata": {
        "id": "ALruYKBX5Rs3"
      }
    },
    {
      "cell_type": "code",
      "execution_count": 1,
      "metadata": {
        "colab": {
          "base_uri": "https://localhost:8080/"
        },
        "id": "a6our1kY4oh8",
        "outputId": "e05012ce-3fba-4961-fc11-3c020c6373a8"
      },
      "outputs": [
        {
          "output_type": "stream",
          "name": "stdout",
          "text": [
            "/content/drive/MyDrive/pytorch\n"
          ]
        }
      ],
      "source": [
        "cd drive/MyDrive/pytorch/"
      ]
    },
    {
      "cell_type": "markdown",
      "source": [
        "#모듈 불러오기"
      ],
      "metadata": {
        "id": "8wBd6Yt15Ztj"
      }
    },
    {
      "cell_type": "code",
      "source": [
        "import torch\n",
        "import pandas as pd\n",
        "from torch import nn\n",
        "from torch import optim\n",
        "from torch.utils.data import Dataset, DataLoader, random_split"
      ],
      "metadata": {
        "id": "BqFMn7XC5Pbm"
      },
      "execution_count": 2,
      "outputs": []
    },
    {
      "cell_type": "markdown",
      "source": [
        "일단 Dataset과 모델 class를 만든 다음에\\\n",
        "dataset을 불러온다음 길이를 계산하여\\\n",
        "train : 0.8 / validation : 0.1 / test : 0.1 로 분리하여\\\n",
        "dataloader를 이용해 각각 불러와 train이후 validation loss를 구할 것이다.\n"
      ],
      "metadata": {
        "id": "m5LPUeoDl9v1"
      }
    },
    {
      "cell_type": "markdown",
      "source": [
        "### Dataset 구성"
      ],
      "metadata": {
        "id": "BtVbVJbXRfUX"
      }
    },
    {
      "cell_type": "code",
      "source": [
        "class CustomDataset(Dataset):\n",
        "  def __init__(self,file_path):\n",
        "    df=pd.read_csv(file_path)\n",
        "    self.x=df.iloc[:,0].values\n",
        "    self.y=df.iloc[:,1].values\n",
        "    self.length=len(df)\n",
        "\n",
        "  def __getitem__(self,index):\n",
        "    x=torch.FloatTensor([self.x[index]*2,self.x[index]])\n",
        "    y=torch.FloatTensor([self.y[index]])\n",
        "    return x,y\n",
        "\n",
        "  def __len__(self):\n",
        "    return self.length"
      ],
      "metadata": {
        "id": "WWKz35Zf5sld"
      },
      "execution_count": 4,
      "outputs": []
    },
    {
      "cell_type": "markdown",
      "source": [
        "### Model 구성"
      ],
      "metadata": {
        "id": "sv6XObgwRnbX"
      }
    },
    {
      "cell_type": "code",
      "source": [
        "class CustomModel(nn.Module):\n",
        "  def __init__(self):\n",
        "    super(CustomModel,self).__init__()\n",
        "    self.layer=nn.Linear(2,1)\n",
        "\n",
        "  def forward(self,x):\n",
        "    x=self.layer(x)\n",
        "    return x"
      ],
      "metadata": {
        "id": "Khm7NU_l4ez-"
      },
      "execution_count": 8,
      "outputs": []
    },
    {
      "cell_type": "markdown",
      "source": [
        "### Dataset 불러오기 및 Train,Validation,Test 분류"
      ],
      "metadata": {
        "id": "up-CedpBRrTX"
      }
    },
    {
      "cell_type": "code",
      "source": [
        "dataset=CustomDataset(\"dataset.csv\")\n",
        "dataset_size=len(dataset)\n",
        "train_size=int(dataset_size*0.8)  # 꼭 정수형(int)으로 바꿔줘야 한다!!!\n",
        "validation_size=int(dataset_size*0.1)\n",
        "test_size=dataset_size-train_size-validation_size\n",
        "\n",
        "train_dataset,validation_dataset,test_dataset=random_split(dataset,[train_size,validation_size,test_size])\n",
        "\n",
        "print(f\"Train_dataset_size = {len(train_dataset)}\")\n",
        "print(f\"Validation_dataset_size = {len(validation_dataset)}\")\n",
        "print(f\"Test_dataset_size = {len(test_dataset)}\")"
      ],
      "metadata": {
        "colab": {
          "base_uri": "https://localhost:8080/"
        },
        "id": "IP5A2Taj5WeO",
        "outputId": "539da16f-f53c-4444-804a-66e4dce84ceb"
      },
      "execution_count": 6,
      "outputs": [
        {
          "output_type": "stream",
          "name": "stdout",
          "text": [
            "Train_dataset_size = 160\n",
            "Validation_dataset_size = 20\n",
            "Test_dataset_size = 20\n"
          ]
        }
      ]
    },
    {
      "cell_type": "markdown",
      "source": [
        "### 모델,Loss,Optimizer 계산에 GPU를 사용할 수 있음"
      ],
      "metadata": {
        "id": "iIzpRDVcSUEV"
      }
    },
    {
      "cell_type": "code",
      "source": [
        "device = \"cuda\" if torch.cuda.is_available() else \"cpu\"\n",
        "model = CustomModel().to(device)\n",
        "criterion = nn.MSELoss().to(device)\n",
        "optimizer = optim.SGD(model.parameters(),lr=0.0001)"
      ],
      "metadata": {
        "id": "tfh3_80A6W4S"
      },
      "execution_count": 10,
      "outputs": []
    },
    {
      "cell_type": "markdown",
      "source": [
        "### 학습"
      ],
      "metadata": {
        "id": "Jxk-KudRTWSv"
      }
    },
    {
      "cell_type": "code",
      "source": [],
      "metadata": {
        "id": "OIxZdE3PTBxx"
      },
      "execution_count": null,
      "outputs": []
    }
  ]
}