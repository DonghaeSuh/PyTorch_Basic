{
  "nbformat": 4,
  "nbformat_minor": 0,
  "metadata": {
    "colab": {
      "provenance": [],
      "mount_file_id": "1667KRDHKwg-U-opAR50lDpBglIUPfUCQ",
      "authorship_tag": "ABX9TyPIz3JHt90heAYwXQuLG7Eg",
      "include_colab_link": true
    },
    "kernelspec": {
      "name": "python3",
      "display_name": "Python 3"
    },
    "language_info": {
      "name": "python"
    }
  },
  "cells": [
    {
      "cell_type": "markdown",
      "metadata": {
        "id": "view-in-github",
        "colab_type": "text"
      },
      "source": [
        "<a href=\"https://colab.research.google.com/github/DonghaeSuh/PyTorch_Basic/blob/main/train_valid_test_split.ipynb\" target=\"_parent\"><img src=\"https://colab.research.google.com/assets/colab-badge.svg\" alt=\"Open In Colab\"/></a>"
      ]
    },
    {
      "cell_type": "markdown",
      "source": [
        "### 현재 위치 설정"
      ],
      "metadata": {
        "id": "ALruYKBX5Rs3"
      }
    },
    {
      "cell_type": "code",
      "execution_count": 1,
      "metadata": {
        "colab": {
          "base_uri": "https://localhost:8080/"
        },
        "id": "a6our1kY4oh8",
        "outputId": "3b5a949b-6c70-4b8d-a903-dacfb734a956"
      },
      "outputs": [
        {
          "output_type": "stream",
          "name": "stdout",
          "text": [
            "/content/drive/MyDrive/pytorch\n"
          ]
        }
      ],
      "source": [
        "cd drive/MyDrive/pytorch/"
      ]
    },
    {
      "cell_type": "markdown",
      "source": [
        "#모듈 불러오기"
      ],
      "metadata": {
        "id": "8wBd6Yt15Ztj"
      }
    },
    {
      "cell_type": "code",
      "source": [
        "import torch\n",
        "import pandas as pd\n",
        "from torch import nn\n",
        "from torch import optim\n",
        "from torch.utils.data import Dataset, DataLoader, random_split"
      ],
      "metadata": {
        "id": "BqFMn7XC5Pbm"
      },
      "execution_count": 2,
      "outputs": []
    },
    {
      "cell_type": "markdown",
      "source": [
        "일단 Dataset과 모델 class를 만든 다음에\\\n",
        "dataset을 불러온다음 길이를 계산하여\\\n",
        "train : 0.8 / validation : 0.1 / test : 0.1 로 분리하여\\\n",
        "dataloader를 이용해 각각 불러와 train이후 validation loss를 구할 것이다.\n"
      ],
      "metadata": {
        "id": "m5LPUeoDl9v1"
      }
    },
    {
      "cell_type": "markdown",
      "source": [
        "### Dataset 구성"
      ],
      "metadata": {
        "id": "BtVbVJbXRfUX"
      }
    },
    {
      "cell_type": "code",
      "source": [
        "class CustomDataset(Dataset):\n",
        "  def __init__(self,file_path):\n",
        "    df=pd.read_csv(file_path)\n",
        "    self.x=df.iloc[:,0].values\n",
        "    self.y=df.iloc[:,1].values\n",
        "    self.length=len(df)\n",
        "\n",
        "  def __getitem__(self,index):\n",
        "    x=torch.FloatTensor([self.x[index]**2,self.x[index]])\n",
        "    y=torch.FloatTensor([self.y[index]])\n",
        "    return x,y\n",
        "\n",
        "  def __len__(self):\n",
        "    return self.length"
      ],
      "metadata": {
        "id": "WWKz35Zf5sld"
      },
      "execution_count": 13,
      "outputs": []
    },
    {
      "cell_type": "markdown",
      "source": [
        "### Model 구성"
      ],
      "metadata": {
        "id": "sv6XObgwRnbX"
      }
    },
    {
      "cell_type": "code",
      "source": [
        "class CustomModel(nn.Module):\n",
        "  def __init__(self):\n",
        "    super(CustomModel,self).__init__()\n",
        "    self.layer=nn.Linear(2,1)\n",
        "\n",
        "  def forward(self,x):\n",
        "    x=self.layer(x)\n",
        "    return x"
      ],
      "metadata": {
        "id": "Khm7NU_l4ez-"
      },
      "execution_count": 14,
      "outputs": []
    },
    {
      "cell_type": "markdown",
      "source": [
        "### Dataset 불러오기 및 Train,Validation,Test 분류"
      ],
      "metadata": {
        "id": "up-CedpBRrTX"
      }
    },
    {
      "cell_type": "code",
      "source": [
        "dataset=CustomDataset(\"dataset.csv\")\n",
        "dataset_size=len(dataset)\n",
        "train_size=int(dataset_size*0.8)  # 꼭 정수형(int)으로 바꿔줘야 한다!!!\n",
        "validation_size=int(dataset_size*0.1)\n",
        "test_size=dataset_size-train_size-validation_size\n",
        "\n",
        "train_dataset,validation_dataset,test_dataset=random_split(dataset,[train_size,validation_size,test_size])\n",
        "\n",
        "print(f\"Train_dataset_size = {len(train_dataset)}\")\n",
        "print(f\"Validation_dataset_size = {len(validation_dataset)}\")\n",
        "print(f\"Test_dataset_size = {len(test_dataset)}\")"
      ],
      "metadata": {
        "colab": {
          "base_uri": "https://localhost:8080/"
        },
        "id": "IP5A2Taj5WeO",
        "outputId": "53c67f58-3b64-4f30-8a8e-724273df07f0"
      },
      "execution_count": 15,
      "outputs": [
        {
          "output_type": "stream",
          "name": "stdout",
          "text": [
            "Train_dataset_size = 160\n",
            "Validation_dataset_size = 20\n",
            "Test_dataset_size = 20\n"
          ]
        }
      ]
    },
    {
      "cell_type": "markdown",
      "source": [
        "### dataloader를 이용한 데이터 활용 방식 설정"
      ],
      "metadata": {
        "id": "RjmArkqhYdIG"
      }
    },
    {
      "cell_type": "code",
      "source": [
        "train_dataloader = DataLoader(train_dataset,batch_size=16, shuffle=True,drop_last=True)\n",
        "validation_dataloader = DataLoader(validation_dataset,batch_size=4,shuffle=True,drop_last=True)\n",
        "test_dataloader= DataLoader(test_dataset, batch_size=1, shuffle=True,drop_last=True)"
      ],
      "metadata": {
        "id": "cNGb2dqTYvRq"
      },
      "execution_count": 16,
      "outputs": []
    },
    {
      "cell_type": "markdown",
      "source": [
        "### 모델,Loss,Optimizer 계산에 GPU를 사용할 수 있음"
      ],
      "metadata": {
        "id": "iIzpRDVcSUEV"
      }
    },
    {
      "cell_type": "code",
      "source": [
        "device = \"cuda\" if torch.cuda.is_available() else \"cpu\"\n",
        "model = CustomModel().to(device)\n",
        "criterion = nn.MSELoss().to(device)\n",
        "optimizer = optim.SGD(model.parameters(),lr=0.0001)"
      ],
      "metadata": {
        "id": "tfh3_80A6W4S"
      },
      "execution_count": 17,
      "outputs": []
    },
    {
      "cell_type": "markdown",
      "source": [
        "### 학습"
      ],
      "metadata": {
        "id": "Jxk-KudRTWSv"
      }
    },
    {
      "cell_type": "code",
      "source": [
        "for epoch in range(10000):\n",
        "    cost = 0.0\n",
        "\n",
        "    for x, y in train_dataloader:\n",
        "        x = x.to(device)\n",
        "        y = y.to(device)\n",
        "\n",
        "        output = model(x)\n",
        "        loss = criterion(output, y)\n",
        "\n",
        "        optimizer.zero_grad()\n",
        "        loss.backward()\n",
        "        optimizer.step()\n",
        "\n",
        "        cost += loss\n",
        "\n",
        "    cost = cost / len(train_dataloader)"
      ],
      "metadata": {
        "id": "OIxZdE3PTBxx"
      },
      "execution_count": 18,
      "outputs": []
    },
    {
      "cell_type": "markdown",
      "source": [
        "### 검증"
      ],
      "metadata": {
        "id": "sNpL2_-pai8x"
      }
    },
    {
      "cell_type": "code",
      "source": [
        "with torch.no_grad():\n",
        "    model.eval()\n",
        "    for x, y in validation_dataloader:\n",
        "        x = x.to(device)\n",
        "        y = y.to(device)\n",
        "        \n",
        "        outputs = model(x)\n",
        "        print(f\"X : {x}\")\n",
        "        print(f\"Y : {y}\")\n",
        "        print(f\"Outputs : {outputs}\")\n",
        "        print(\"--------------------\")"
      ],
      "metadata": {
        "colab": {
          "base_uri": "https://localhost:8080/"
        },
        "id": "K9ro1A5jammL",
        "outputId": "4cfd75a7-88e6-4437-c511-fe98eb137ed5"
      },
      "execution_count": 19,
      "outputs": [
        {
          "output_type": "stream",
          "name": "stdout",
          "text": [
            "X : tensor([[24.0100, -4.9000],\n",
            "        [ 2.8900, -1.7000],\n",
            "        [44.8900,  6.7000],\n",
            "        [90.2500,  9.5000]])\n",
            "Y : tensor([[ 83.2800],\n",
            "        [ 12.7900],\n",
            "        [127.8900],\n",
            "        [263.8000]])\n",
            "Outputs : tensor([[ 83.2802],\n",
            "        [ 12.3524],\n",
            "        [128.2459],\n",
            "        [264.0979]])\n",
            "--------------------\n",
            "X : tensor([[ 7.2900,  2.7000],\n",
            "        [46.2400, -6.8000],\n",
            "        [ 7.8400, -2.8000],\n",
            "        [62.4100,  7.9000]])\n",
            "Y : tensor([[ 18.2600],\n",
            "        [155.4300],\n",
            "        [ 29.2000],\n",
            "        [180.9000]])\n",
            "Outputs : tensor([[ 18.4958],\n",
            "        [155.4341],\n",
            "        [ 29.5725],\n",
            "        [180.5159]])\n",
            "--------------------\n",
            "X : tensor([[ 7.8400,  2.8000],\n",
            "        [16.8100, -4.1000],\n",
            "        [ 4.4100,  2.1000],\n",
            "        [30.2500,  5.5000]])\n",
            "Y : tensor([[20.3700],\n",
            "        [59.1100],\n",
            "        [10.4700],\n",
            "        [85.2600]])\n",
            "Outputs : tensor([[20.0305],\n",
            "        [59.5960],\n",
            "        [10.5897],\n",
            "        [84.9044]])\n",
            "--------------------\n",
            "X : tensor([[40.9600,  6.4000],\n",
            "        [16.0000,  4.0000],\n",
            "        [ 1.6900,  1.3000],\n",
            "        [47.6100,  6.9000]])\n",
            "Y : tensor([[116.1800],\n",
            "        [ 43.6400],\n",
            "        [  3.3000],\n",
            "        [136.7200]])\n",
            "Outputs : tensor([[116.5735],\n",
            "        [ 43.2831],\n",
            "        [  3.5205],\n",
            "        [136.3375]])\n",
            "--------------------\n",
            "X : tensor([[37.2100, -6.1000],\n",
            "        [23.0400, -4.8000],\n",
            "        [72.2500, -8.5000],\n",
            "        [ 1.0000,  1.0000]])\n",
            "Y : tensor([[126.4000],\n",
            "        [ 80.1700],\n",
            "        [238.8400],\n",
            "        [  2.0000]])\n",
            "Outputs : tensor([[126.2470],\n",
            "        [ 80.1027],\n",
            "        [238.9658],\n",
            "        [  1.8925]])\n",
            "--------------------\n"
          ]
        }
      ]
    },
    {
      "cell_type": "code",
      "source": [],
      "metadata": {
        "id": "VxqTMERfcLwm"
      },
      "execution_count": null,
      "outputs": []
    }
  ]
}