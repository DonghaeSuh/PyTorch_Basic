{
  "nbformat": 4,
  "nbformat_minor": 0,
  "metadata": {
    "colab": {
      "provenance": [],
      "mount_file_id": "1667KRDHKwg-U-opAR50lDpBglIUPfUCQ",
      "authorship_tag": "ABX9TyNGB4+9EDXEnf4m5OxDrYK1",
      "include_colab_link": true
    },
    "kernelspec": {
      "name": "python3",
      "display_name": "Python 3"
    },
    "language_info": {
      "name": "python"
    }
  },
  "cells": [
    {
      "cell_type": "markdown",
      "metadata": {
        "id": "view-in-github",
        "colab_type": "text"
      },
      "source": [
        "<a href=\"https://colab.research.google.com/github/DonghaeSuh/PyTorch_Basic/blob/main/train_valid_test_split.ipynb\" target=\"_parent\"><img src=\"https://colab.research.google.com/assets/colab-badge.svg\" alt=\"Open In Colab\"/></a>"
      ]
    },
    {
      "cell_type": "markdown",
      "source": [
        "### 현재 위치 설정"
      ],
      "metadata": {
        "id": "ALruYKBX5Rs3"
      }
    },
    {
      "cell_type": "code",
      "execution_count": 3,
      "metadata": {
        "colab": {
          "base_uri": "https://localhost:8080/"
        },
        "id": "a6our1kY4oh8",
        "outputId": "1ca328ab-8a66-4e95-fa46-d3d99843dd30"
      },
      "outputs": [
        {
          "output_type": "stream",
          "name": "stdout",
          "text": [
            "/content/drive/MyDrive/pytorch\n"
          ]
        }
      ],
      "source": [
        "cd drive/MyDrive/pytorch/"
      ]
    },
    {
      "cell_type": "markdown",
      "source": [
        "#모듈 불러오기"
      ],
      "metadata": {
        "id": "8wBd6Yt15Ztj"
      }
    },
    {
      "cell_type": "code",
      "source": [
        "import torch\n",
        "import pandas as pd\n",
        "from torch import nn\n",
        "from torch import optim\n",
        "from torch.utils.data import Dataset, DataLoader, random_split"
      ],
      "metadata": {
        "id": "BqFMn7XC5Pbm"
      },
      "execution_count": 4,
      "outputs": []
    },
    {
      "cell_type": "code",
      "source": [
        "class CustomDataset(Dataset):\n",
        "  def __init__(self,file_path):\n",
        "    df=pd.read_csv(file_path)\n",
        "    self.x=df.iloc[:,0].values\n",
        "    self.y=df.iloc[:,1].values\n",
        "    self.length=len(df)\n",
        "\n",
        "  def __getitem__(self,index):\n",
        "    x=torch.FloatTensor([self.x[index]**2,self.x[index]])\n",
        "    y=torch.FloatTensor([self.y[index]])\n",
        "    return x,y\n",
        "\n",
        "  def __len__(self):\n",
        "    return self.length\n",
        "\n",
        "\n",
        "class CustomModel(nn.Module):\n",
        "  def __init__(self):\n",
        "    super(CustomModel,self).__init__()\n",
        "    self.layer=nn.Linear(2,1)\n",
        "\n",
        "  def forward(self,x):\n",
        "    output=self.layer(x)\n",
        "    return output\n",
        "\n",
        "\n"
      ],
      "metadata": {
        "id": "WWKz35Zf5sld"
      },
      "execution_count": null,
      "outputs": []
    }
  ]
}