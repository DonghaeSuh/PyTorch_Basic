{
  "nbformat": 4,
  "nbformat_minor": 0,
  "metadata": {
    "colab": {
      "provenance": [],
      "mount_file_id": "1ig3KDmVowFv_6bZaaOKkkdmPL_INHCrW",
      "authorship_tag": "ABX9TyMDPGFI/Jr+95kUllcQ6ENb",
      "include_colab_link": true
    },
    "kernelspec": {
      "name": "python3",
      "display_name": "Python 3"
    },
    "language_info": {
      "name": "python"
    }
  },
  "cells": [
    {
      "cell_type": "markdown",
      "metadata": {
        "id": "view-in-github",
        "colab_type": "text"
      },
      "source": [
        "<a href=\"https://colab.research.google.com/github/DonghaeSuh/PyTorch_Basic/blob/main/Model.ipynb\" target=\"_parent\"><img src=\"https://colab.research.google.com/assets/colab-badge.svg\" alt=\"Open In Colab\"/></a>"
      ]
    },
    {
      "cell_type": "markdown",
      "source": [
        "### 경로 이동"
      ],
      "metadata": {
        "id": "tEkNbdmVmvnm"
      }
    },
    {
      "cell_type": "code",
      "source": [
        "cd drive/MyDrive/pytorch"
      ],
      "metadata": {
        "colab": {
          "base_uri": "https://localhost:8080/"
        },
        "id": "tmtvQJEply3g",
        "outputId": "bec9913f-81e5-4252-ed39-046210181edd"
      },
      "execution_count": 1,
      "outputs": [
        {
          "output_type": "stream",
          "name": "stdout",
          "text": [
            "/content/drive/MyDrive/pytorch\n"
          ]
        }
      ]
    },
    {
      "cell_type": "code",
      "source": [
        "ls"
      ],
      "metadata": {
        "colab": {
          "base_uri": "https://localhost:8080/"
        },
        "id": "5Hyf3DpDmlzG",
        "outputId": "86561232-804c-4e83-e266-f183945dd35b"
      },
      "execution_count": 2,
      "outputs": [
        {
          "output_type": "stream",
          "name": "stdout",
          "text": [
            "dataset.csv  Model.ipynb\n"
          ]
        }
      ]
    },
    {
      "cell_type": "markdown",
      "source": [
        "# 메인 코드"
      ],
      "metadata": {
        "id": "2_0YQBv5myKb"
      }
    },
    {
      "cell_type": "code",
      "source": [
        "import torch\n",
        "import pandas as pd\n",
        "from torch import nn\n",
        "from torch import optim\n",
        "from torch.utils.data import Dataset,DataLoader"
      ],
      "metadata": {
        "id": "sHeBXJzemuQl"
      },
      "execution_count": 3,
      "outputs": []
    },
    {
      "cell_type": "code",
      "source": [
        "df=pd.read_csv('dataset.csv')\n",
        "df.head()"
      ],
      "metadata": {
        "id": "3aOrKPsknEbU",
        "colab": {
          "base_uri": "https://localhost:8080/",
          "height": 206
        },
        "outputId": "a6ac40c2-ebc1-4e2b-8602-2ba94f97624c"
      },
      "execution_count": null,
      "outputs": [
        {
          "output_type": "execute_result",
          "data": {
            "text/plain": [
              "      x       y\n",
              "0 -10.0  327.79\n",
              "1  -9.9  321.39\n",
              "2  -9.8  314.48\n",
              "3  -9.7  308.51\n",
              "4  -9.6  302.86"
            ],
            "text/html": [
              "\n",
              "  <div id=\"df-2edfc440-d4d2-4d7a-aa42-74cc4ed3a611\">\n",
              "    <div class=\"colab-df-container\">\n",
              "      <div>\n",
              "<style scoped>\n",
              "    .dataframe tbody tr th:only-of-type {\n",
              "        vertical-align: middle;\n",
              "    }\n",
              "\n",
              "    .dataframe tbody tr th {\n",
              "        vertical-align: top;\n",
              "    }\n",
              "\n",
              "    .dataframe thead th {\n",
              "        text-align: right;\n",
              "    }\n",
              "</style>\n",
              "<table border=\"1\" class=\"dataframe\">\n",
              "  <thead>\n",
              "    <tr style=\"text-align: right;\">\n",
              "      <th></th>\n",
              "      <th>x</th>\n",
              "      <th>y</th>\n",
              "    </tr>\n",
              "  </thead>\n",
              "  <tbody>\n",
              "    <tr>\n",
              "      <th>0</th>\n",
              "      <td>-10.0</td>\n",
              "      <td>327.79</td>\n",
              "    </tr>\n",
              "    <tr>\n",
              "      <th>1</th>\n",
              "      <td>-9.9</td>\n",
              "      <td>321.39</td>\n",
              "    </tr>\n",
              "    <tr>\n",
              "      <th>2</th>\n",
              "      <td>-9.8</td>\n",
              "      <td>314.48</td>\n",
              "    </tr>\n",
              "    <tr>\n",
              "      <th>3</th>\n",
              "      <td>-9.7</td>\n",
              "      <td>308.51</td>\n",
              "    </tr>\n",
              "    <tr>\n",
              "      <th>4</th>\n",
              "      <td>-9.6</td>\n",
              "      <td>302.86</td>\n",
              "    </tr>\n",
              "  </tbody>\n",
              "</table>\n",
              "</div>\n",
              "      <button class=\"colab-df-convert\" onclick=\"convertToInteractive('df-2edfc440-d4d2-4d7a-aa42-74cc4ed3a611')\"\n",
              "              title=\"Convert this dataframe to an interactive table.\"\n",
              "              style=\"display:none;\">\n",
              "        \n",
              "  <svg xmlns=\"http://www.w3.org/2000/svg\" height=\"24px\"viewBox=\"0 0 24 24\"\n",
              "       width=\"24px\">\n",
              "    <path d=\"M0 0h24v24H0V0z\" fill=\"none\"/>\n",
              "    <path d=\"M18.56 5.44l.94 2.06.94-2.06 2.06-.94-2.06-.94-.94-2.06-.94 2.06-2.06.94zm-11 1L8.5 8.5l.94-2.06 2.06-.94-2.06-.94L8.5 2.5l-.94 2.06-2.06.94zm10 10l.94 2.06.94-2.06 2.06-.94-2.06-.94-.94-2.06-.94 2.06-2.06.94z\"/><path d=\"M17.41 7.96l-1.37-1.37c-.4-.4-.92-.59-1.43-.59-.52 0-1.04.2-1.43.59L10.3 9.45l-7.72 7.72c-.78.78-.78 2.05 0 2.83L4 21.41c.39.39.9.59 1.41.59.51 0 1.02-.2 1.41-.59l7.78-7.78 2.81-2.81c.8-.78.8-2.07 0-2.86zM5.41 20L4 18.59l7.72-7.72 1.47 1.35L5.41 20z\"/>\n",
              "  </svg>\n",
              "      </button>\n",
              "      \n",
              "  <style>\n",
              "    .colab-df-container {\n",
              "      display:flex;\n",
              "      flex-wrap:wrap;\n",
              "      gap: 12px;\n",
              "    }\n",
              "\n",
              "    .colab-df-convert {\n",
              "      background-color: #E8F0FE;\n",
              "      border: none;\n",
              "      border-radius: 50%;\n",
              "      cursor: pointer;\n",
              "      display: none;\n",
              "      fill: #1967D2;\n",
              "      height: 32px;\n",
              "      padding: 0 0 0 0;\n",
              "      width: 32px;\n",
              "    }\n",
              "\n",
              "    .colab-df-convert:hover {\n",
              "      background-color: #E2EBFA;\n",
              "      box-shadow: 0px 1px 2px rgba(60, 64, 67, 0.3), 0px 1px 3px 1px rgba(60, 64, 67, 0.15);\n",
              "      fill: #174EA6;\n",
              "    }\n",
              "\n",
              "    [theme=dark] .colab-df-convert {\n",
              "      background-color: #3B4455;\n",
              "      fill: #D2E3FC;\n",
              "    }\n",
              "\n",
              "    [theme=dark] .colab-df-convert:hover {\n",
              "      background-color: #434B5C;\n",
              "      box-shadow: 0px 1px 3px 1px rgba(0, 0, 0, 0.15);\n",
              "      filter: drop-shadow(0px 1px 2px rgba(0, 0, 0, 0.3));\n",
              "      fill: #FFFFFF;\n",
              "    }\n",
              "  </style>\n",
              "\n",
              "      <script>\n",
              "        const buttonEl =\n",
              "          document.querySelector('#df-2edfc440-d4d2-4d7a-aa42-74cc4ed3a611 button.colab-df-convert');\n",
              "        buttonEl.style.display =\n",
              "          google.colab.kernel.accessAllowed ? 'block' : 'none';\n",
              "\n",
              "        async function convertToInteractive(key) {\n",
              "          const element = document.querySelector('#df-2edfc440-d4d2-4d7a-aa42-74cc4ed3a611');\n",
              "          const dataTable =\n",
              "            await google.colab.kernel.invokeFunction('convertToInteractive',\n",
              "                                                     [key], {});\n",
              "          if (!dataTable) return;\n",
              "\n",
              "          const docLinkHtml = 'Like what you see? Visit the ' +\n",
              "            '<a target=\"_blank\" href=https://colab.research.google.com/notebooks/data_table.ipynb>data table notebook</a>'\n",
              "            + ' to learn more about interactive tables.';\n",
              "          element.innerHTML = '';\n",
              "          dataTable['output_type'] = 'display_data';\n",
              "          await google.colab.output.renderOutput(dataTable, element);\n",
              "          const docLink = document.createElement('div');\n",
              "          docLink.innerHTML = docLinkHtml;\n",
              "          element.appendChild(docLink);\n",
              "        }\n",
              "      </script>\n",
              "    </div>\n",
              "  </div>\n",
              "  "
            ]
          },
          "metadata": {},
          "execution_count": 23
        }
      ]
    },
    {
      "cell_type": "code",
      "source": [
        "a=df['x'].values"
      ],
      "metadata": {
        "id": "qDJdB2BsxH-X"
      },
      "execution_count": null,
      "outputs": []
    },
    {
      "cell_type": "code",
      "source": [
        "b=df.iloc[:,0].values"
      ],
      "metadata": {
        "id": "39NVbEkTt_tR"
      },
      "execution_count": null,
      "outputs": []
    },
    {
      "cell_type": "code",
      "source": [
        "a==b"
      ],
      "metadata": {
        "colab": {
          "base_uri": "https://localhost:8080/"
        },
        "id": "plrMNva_xWAG",
        "outputId": "709eae1d-fc95-47fb-820b-fda14eda9f85"
      },
      "execution_count": null,
      "outputs": [
        {
          "output_type": "execute_result",
          "data": {
            "text/plain": [
              "array([ True,  True,  True,  True,  True,  True,  True,  True,  True,\n",
              "        True,  True,  True,  True,  True,  True,  True,  True,  True,\n",
              "        True,  True,  True,  True,  True,  True,  True,  True,  True,\n",
              "        True,  True,  True,  True,  True,  True,  True,  True,  True,\n",
              "        True,  True,  True,  True,  True,  True,  True,  True,  True,\n",
              "        True,  True,  True,  True,  True,  True,  True,  True,  True,\n",
              "        True,  True,  True,  True,  True,  True,  True,  True,  True,\n",
              "        True,  True,  True,  True,  True,  True,  True,  True,  True,\n",
              "        True,  True,  True,  True,  True,  True,  True,  True,  True,\n",
              "        True,  True,  True,  True,  True,  True,  True,  True,  True,\n",
              "        True,  True,  True,  True,  True,  True,  True,  True,  True,\n",
              "        True,  True,  True,  True,  True,  True,  True,  True,  True,\n",
              "        True,  True,  True,  True,  True,  True,  True,  True,  True,\n",
              "        True,  True,  True,  True,  True,  True,  True,  True,  True,\n",
              "        True,  True,  True,  True,  True,  True,  True,  True,  True,\n",
              "        True,  True,  True,  True,  True,  True,  True,  True,  True,\n",
              "        True,  True,  True,  True,  True,  True,  True,  True,  True,\n",
              "        True,  True,  True,  True,  True,  True,  True,  True,  True,\n",
              "        True,  True,  True,  True,  True,  True,  True,  True,  True,\n",
              "        True,  True,  True,  True,  True,  True,  True,  True,  True,\n",
              "        True,  True,  True,  True,  True,  True,  True,  True,  True,\n",
              "        True,  True,  True,  True,  True,  True,  True,  True,  True,\n",
              "        True,  True])"
            ]
          },
          "metadata": {},
          "execution_count": 41
        }
      ]
    },
    {
      "cell_type": "markdown",
      "source": [
        "### 사용자 정의 dataset"
      ],
      "metadata": {
        "id": "7cZBkpMewzGx"
      }
    },
    {
      "cell_type": "code",
      "source": [
        "class CustomDataset(Dataset):\n",
        "  def __init__(self,file_path):\n",
        "    df=pd.read_csv(file_path)\n",
        "    self.x=df.iloc[:,0].values\n",
        "    self.y=df.iloc[:,1].values\n",
        "    self.length=len(df)\n",
        "\n",
        "  def __getitem__(self, index):\n",
        "    x=torch.FloatTensor([self.x[index]**2, self.x[index]])\n",
        "    y=torch.FloatTensor([self.y[index]])\n",
        "    return x,y\n",
        "\n",
        "  def __len__(self):\n",
        "    return self.length"
      ],
      "metadata": {
        "id": "JdrEZavbuDCY"
      },
      "execution_count": 12,
      "outputs": []
    },
    {
      "cell_type": "markdown",
      "source": [
        "![image.png](data:image/png;base64,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)"
      ],
      "metadata": {
        "id": "IpDf6ai4uXqN"
      }
    },
    {
      "cell_type": "markdown",
      "source": [
        "### 사용자 정의 모델"
      ],
      "metadata": {
        "id": "90OsVuvaw46I"
      }
    },
    {
      "cell_type": "code",
      "source": [
        "class CustomModel(nn.Module):\n",
        "  def __init__(self):\n",
        "    super(CustomModel,self).__init__()\n",
        "    self.layer=nn.Linear(2,1)\n",
        "  \n",
        "  def forward(self,x):\n",
        "    x=self.layer(x)\n",
        "    return x"
      ],
      "metadata": {
        "id": "6fOH3nFVyuFD"
      },
      "execution_count": 13,
      "outputs": []
    },
    {
      "cell_type": "markdown",
      "source": [
        "### 데이터 사용 준비"
      ],
      "metadata": {
        "id": "0NisUGjux2PE"
      }
    },
    {
      "cell_type": "code",
      "source": [
        "train_dataset=CustomDataset(\"./dataset.csv\")\n",
        "train_dataloader = DataLoader(train_dataset, batch_size=128, shuffle=True, drop_last=True)\n",
        "# batch 크기 : 128 / 데이터 순서 셔플 / 마지막 batch를 제거"
      ],
      "metadata": {
        "id": "TgKlTYLXxz3N"
      },
      "execution_count": 14,
      "outputs": []
    },
    {
      "cell_type": "markdown",
      "source": [
        "### GPU 연산 사용"
      ],
      "metadata": {
        "id": "93zd7s-j45co"
      }
    },
    {
      "cell_type": "code",
      "source": [
        "device=\"cuda\" if torch.cuda.is_available() else \"cpu\"\n",
        "model = CustomModel().to(device)\n",
        "criterion = nn.MSELoss().to(device)\n",
        "optimizer = optim.SGD(model.parameters(), lr =0.0001)"
      ],
      "metadata": {
        "id": "E4HDltqq44Xa"
      },
      "execution_count": 15,
      "outputs": []
    },
    {
      "cell_type": "markdown",
      "source": [
        "### 학습"
      ],
      "metadata": {
        "id": "tSNqHSWc2G3o"
      }
    },
    {
      "cell_type": "code",
      "source": [
        "for epoch in range(10000):\n",
        "  cost=0.0\n",
        "\n",
        "  for x, y in train_dataloader:\n",
        "    x=x.to(device)\n",
        "    y=y.to(device)\n",
        "\n",
        "    output=model(x)\n",
        "    loss=criterion(output,y)\n",
        "\n",
        "    optimizer.zero_grad()\n",
        "    loss.backward()\n",
        "    optimizer.step()\n",
        "\n",
        "    cost+=loss\n",
        "\n",
        "  cost=cost/len(train_dataloader)\n",
        "\n",
        "  if (epoch+1)%1000==0:\n",
        "    print(f\"Epoch : {epoch+1:4d}, Model : {list(model.parameters())}, Cost : {cost:.3f}\")\n"
      ],
      "metadata": {
        "id": "P-rFGLy25rJw",
        "colab": {
          "base_uri": "https://localhost:8080/"
        },
        "outputId": "db1baa20-1e4c-4832-d7c0-c68ec96e0e7f"
      },
      "execution_count": 20,
      "outputs": [
        {
          "output_type": "stream",
          "name": "stdout",
          "text": [
            "Epoch : 1000, Model : [Parameter containing:\n",
            "tensor([[ 3.1025, -1.7032]], requires_grad=True), Parameter containing:\n",
            "tensor([0.3361], requires_grad=True)], Cost : 0.087\n",
            "Epoch : 2000, Model : [Parameter containing:\n",
            "tensor([[ 3.1022, -1.7031]], requires_grad=True), Parameter containing:\n",
            "tensor([0.3495], requires_grad=True)], Cost : 0.081\n",
            "Epoch : 3000, Model : [Parameter containing:\n",
            "tensor([[ 3.1019, -1.7031]], requires_grad=True), Parameter containing:\n",
            "tensor([0.3619], requires_grad=True)], Cost : 0.085\n",
            "Epoch : 4000, Model : [Parameter containing:\n",
            "tensor([[ 3.1020, -1.7034]], requires_grad=True), Parameter containing:\n",
            "tensor([0.3732], requires_grad=True)], Cost : 0.074\n",
            "Epoch : 5000, Model : [Parameter containing:\n",
            "tensor([[ 3.1022, -1.7030]], requires_grad=True), Parameter containing:\n",
            "tensor([0.3834], requires_grad=True)], Cost : 0.083\n",
            "Epoch : 6000, Model : [Parameter containing:\n",
            "tensor([[ 3.1018, -1.7033]], requires_grad=True), Parameter containing:\n",
            "tensor([0.3929], requires_grad=True)], Cost : 0.079\n",
            "Epoch : 7000, Model : [Parameter containing:\n",
            "tensor([[ 3.1012, -1.7033]], requires_grad=True), Parameter containing:\n",
            "tensor([0.4015], requires_grad=True)], Cost : 0.082\n",
            "Epoch : 8000, Model : [Parameter containing:\n",
            "tensor([[ 3.1013, -1.7030]], requires_grad=True), Parameter containing:\n",
            "tensor([0.4095], requires_grad=True)], Cost : 0.082\n",
            "Epoch : 9000, Model : [Parameter containing:\n",
            "tensor([[ 3.1015, -1.7032]], requires_grad=True), Parameter containing:\n",
            "tensor([0.4167], requires_grad=True)], Cost : 0.082\n",
            "Epoch : 10000, Model : [Parameter containing:\n",
            "tensor([[ 3.1012, -1.7035]], requires_grad=True), Parameter containing:\n",
            "tensor([0.4233], requires_grad=True)], Cost : 0.078\n"
          ]
        }
      ]
    },
    {
      "cell_type": "markdown",
      "source": [
        "### 모델 평가"
      ],
      "metadata": {
        "id": "NnaVWfmL6bHo"
      }
    },
    {
      "cell_type": "markdown",
      "source": [
        "이 모델은 실제로 y=3.1x**2 -1.7x + random(0.01,0.99)로 구성되어 있음."
      ],
      "metadata": {
        "id": "BxDmYyKO8dLR"
      }
    },
    {
      "cell_type": "code",
      "source": [
        "with torch.no_grad():\n",
        "  model.eval() # 평가(Inference)모드 => 다시 학습을 진행하려면 model.train()을 호출해야한다.\n",
        "  test_inputs=torch.FloatTensor([[1**2,1],[5**2,5],[11**2,11]]).to(device)\n",
        "  outputs=model(test_inputs)\n",
        "  print(outputs)"
      ],
      "metadata": {
        "colab": {
          "base_uri": "https://localhost:8080/"
        },
        "id": "Cix0uc-Q6B-U",
        "outputId": "eae5037e-3e3a-4002-9b1c-d90167aaebb2"
      },
      "execution_count": 22,
      "outputs": [
        {
          "output_type": "stream",
          "name": "stdout",
          "text": [
            "tensor([[  1.8210],\n",
            "        [ 69.4368],\n",
            "        [356.9348]])\n"
          ]
        }
      ]
    }
  ]
}